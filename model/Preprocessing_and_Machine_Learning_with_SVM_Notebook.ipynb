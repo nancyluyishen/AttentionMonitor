{
  "nbformat": 4,
  "nbformat_minor": 5,
  "metadata": {
    "kernelspec": {
      "display_name": "Python 3",
      "language": "python",
      "name": "python3"
    },
    "language_info": {
      "codemirror_mode": {
        "name": "ipython",
        "version": 3
      },
      "file_extension": ".py",
      "mimetype": "text/x-python",
      "name": "python",
      "nbconvert_exporter": "python",
      "pygments_lexer": "ipython3",
      "version": "3.8.8"
    },
    "colab": {
      "name": "Preprocessing and Machine Learning with SVM - Notebook.ipynb",
      "provenance": [],
      "collapsed_sections": []
    }
  },
  "cells": [
    {
      "cell_type": "code",
      "metadata": {
        "id": "c5e0e071"
      },
      "source": [
        "### Preprocessing and Support Vector Machine (SVM) Notebook for EEG Analysis\n",
        "## By: Nancy Shen and Karla Juego"
      ],
      "id": "c5e0e071",
      "execution_count": null,
      "outputs": []
    },
    {
      "cell_type": "code",
      "metadata": {
        "id": "G4MdVD2LMVmo"
      },
      "source": [
        "### Preprocessing of EEG Data Steps ###"
      ],
      "id": "G4MdVD2LMVmo",
      "execution_count": null,
      "outputs": []
    },
    {
      "cell_type": "code",
      "metadata": {
        "id": "lfy1VDAYLjX4"
      },
      "source": [
        "# Import Statements\n",
        "import os\n",
        "import pickle\n",
        "import pandas as pd "
      ],
      "id": "lfy1VDAYLjX4",
      "execution_count": 1,
      "outputs": []
    },
    {
      "cell_type": "code",
      "metadata": {
        "id": "1sPjRTllLkBz"
      },
      "source": [
        "# Preprocessing to Change Attention States to a Numerical Value\n",
        "input = pd.DataFrame()\n",
        "output = pd.DataFrame()\n",
        "for dirname, _, filenames in os.walk('/content/data'):\n",
        "    for filename in filenames:\n",
        "      data = pickle.load(open(dirname+'/'+filename, 'rb'))\n",
        "      for i in range(1,5):\n",
        "        trial = 'trial_'+ str(i)\n",
        "        # print(trial)\n",
        "        focussed = pd.DataFrame(data[trial]['focussed'])\n",
        "        unfocussed = pd.DataFrame(data[trial]['unfocussed'])\n",
        "        drowsed = pd.DataFrame(data[trial]['drowsed'])\n",
        "        focussed_output = pd.DataFrame([3] * len(focussed))\n",
        "        unfocussed_output = pd.DataFrame([2] * len(unfocussed))\n",
        "        drowsed_output = pd.DataFrame([1] * len(drowsed))\n",
        "        input = pd.concat([focussed,unfocussed, drowsed,input],axis=0)\n",
        "        output = pd.concat([focussed_output,unfocussed_output, drowsed_output,output],axis=0)"
      ],
      "id": "1sPjRTllLkBz",
      "execution_count": 2,
      "outputs": []
    },
    {
      "cell_type": "code",
      "metadata": {
        "colab": {
          "base_uri": "https://localhost:8080/",
          "height": 437
        },
        "id": "rL7MwgRXLvjd",
        "outputId": "1872e8f4-7cf0-458c-874d-1683f8480a61"
      },
      "source": [
        "# Move into a single dataframe.\n",
        "input[\"output\"] = output\n",
        "\n",
        "# Check file with EEG data and concentration values.\n",
        "input"
      ],
      "id": "rL7MwgRXLvjd",
      "execution_count": 3,
      "outputs": [
        {
          "output_type": "execute_result",
          "data": {
            "text/html": [
              "<div>\n",
              "<style scoped>\n",
              "    .dataframe tbody tr th:only-of-type {\n",
              "        vertical-align: middle;\n",
              "    }\n",
              "\n",
              "    .dataframe tbody tr th {\n",
              "        vertical-align: top;\n",
              "    }\n",
              "\n",
              "    .dataframe thead th {\n",
              "        text-align: right;\n",
              "    }\n",
              "</style>\n",
              "<table border=\"1\" class=\"dataframe\">\n",
              "  <thead>\n",
              "    <tr style=\"text-align: right;\">\n",
              "      <th></th>\n",
              "      <th>0</th>\n",
              "      <th>1</th>\n",
              "      <th>2</th>\n",
              "      <th>3</th>\n",
              "      <th>4</th>\n",
              "      <th>5</th>\n",
              "      <th>6</th>\n",
              "      <th>output</th>\n",
              "    </tr>\n",
              "  </thead>\n",
              "  <tbody>\n",
              "    <tr>\n",
              "      <th>0</th>\n",
              "      <td>3992.307692</td>\n",
              "      <td>5018.974359</td>\n",
              "      <td>4315.897436</td>\n",
              "      <td>4384.615385</td>\n",
              "      <td>4033.846154</td>\n",
              "      <td>4161.538462</td>\n",
              "      <td>4081.538462</td>\n",
              "      <td>3</td>\n",
              "    </tr>\n",
              "    <tr>\n",
              "      <th>1</th>\n",
              "      <td>3991.794872</td>\n",
              "      <td>5017.948718</td>\n",
              "      <td>4320.000000</td>\n",
              "      <td>4384.102564</td>\n",
              "      <td>4032.820513</td>\n",
              "      <td>4157.948718</td>\n",
              "      <td>4083.076923</td>\n",
              "      <td>3</td>\n",
              "    </tr>\n",
              "    <tr>\n",
              "      <th>2</th>\n",
              "      <td>3992.820513</td>\n",
              "      <td>5014.871795</td>\n",
              "      <td>4319.487179</td>\n",
              "      <td>4386.666667</td>\n",
              "      <td>4035.384615</td>\n",
              "      <td>4151.794872</td>\n",
              "      <td>4078.974359</td>\n",
              "      <td>3</td>\n",
              "    </tr>\n",
              "    <tr>\n",
              "      <th>3</th>\n",
              "      <td>3990.769231</td>\n",
              "      <td>5011.282051</td>\n",
              "      <td>4315.384615</td>\n",
              "      <td>4384.615385</td>\n",
              "      <td>4029.230769</td>\n",
              "      <td>4150.769231</td>\n",
              "      <td>4073.333333</td>\n",
              "      <td>3</td>\n",
              "    </tr>\n",
              "    <tr>\n",
              "      <th>4</th>\n",
              "      <td>3989.230769</td>\n",
              "      <td>5015.384615</td>\n",
              "      <td>4315.384615</td>\n",
              "      <td>4379.487179</td>\n",
              "      <td>4020.000000</td>\n",
              "      <td>4152.820513</td>\n",
              "      <td>4076.923077</td>\n",
              "      <td>3</td>\n",
              "    </tr>\n",
              "    <tr>\n",
              "      <th>...</th>\n",
              "      <td>...</td>\n",
              "      <td>...</td>\n",
              "      <td>...</td>\n",
              "      <td>...</td>\n",
              "      <td>...</td>\n",
              "      <td>...</td>\n",
              "      <td>...</td>\n",
              "      <td>...</td>\n",
              "    </tr>\n",
              "    <tr>\n",
              "      <th>275243</th>\n",
              "      <td>4102.564103</td>\n",
              "      <td>5057.948718</td>\n",
              "      <td>4458.461538</td>\n",
              "      <td>4232.307692</td>\n",
              "      <td>4121.538462</td>\n",
              "      <td>4376.923077</td>\n",
              "      <td>4040.000000</td>\n",
              "      <td>1</td>\n",
              "    </tr>\n",
              "    <tr>\n",
              "      <th>275244</th>\n",
              "      <td>4097.435897</td>\n",
              "      <td>5052.307692</td>\n",
              "      <td>4452.307692</td>\n",
              "      <td>4232.307692</td>\n",
              "      <td>4116.923077</td>\n",
              "      <td>4380.512821</td>\n",
              "      <td>4036.923077</td>\n",
              "      <td>1</td>\n",
              "    </tr>\n",
              "    <tr>\n",
              "      <th>275245</th>\n",
              "      <td>4092.307692</td>\n",
              "      <td>5039.487179</td>\n",
              "      <td>4447.179487</td>\n",
              "      <td>4234.871795</td>\n",
              "      <td>4108.717949</td>\n",
              "      <td>4384.102564</td>\n",
              "      <td>4032.820513</td>\n",
              "      <td>1</td>\n",
              "    </tr>\n",
              "    <tr>\n",
              "      <th>275246</th>\n",
              "      <td>4088.717949</td>\n",
              "      <td>5031.794872</td>\n",
              "      <td>4442.564103</td>\n",
              "      <td>4231.282051</td>\n",
              "      <td>4097.948718</td>\n",
              "      <td>4378.461538</td>\n",
              "      <td>4023.589744</td>\n",
              "      <td>1</td>\n",
              "    </tr>\n",
              "    <tr>\n",
              "      <th>275247</th>\n",
              "      <td>4090.256410</td>\n",
              "      <td>5040.000000</td>\n",
              "      <td>4447.179487</td>\n",
              "      <td>4235.897436</td>\n",
              "      <td>4098.974359</td>\n",
              "      <td>4381.538462</td>\n",
              "      <td>4022.051282</td>\n",
              "      <td>1</td>\n",
              "    </tr>\n",
              "  </tbody>\n",
              "</table>\n",
              "<p>7708184 rows × 8 columns</p>\n",
              "</div>"
            ],
            "text/plain": [
              "                  0            1            2  ...            5            6  output\n",
              "0       3992.307692  5018.974359  4315.897436  ...  4161.538462  4081.538462       3\n",
              "1       3991.794872  5017.948718  4320.000000  ...  4157.948718  4083.076923       3\n",
              "2       3992.820513  5014.871795  4319.487179  ...  4151.794872  4078.974359       3\n",
              "3       3990.769231  5011.282051  4315.384615  ...  4150.769231  4073.333333       3\n",
              "4       3989.230769  5015.384615  4315.384615  ...  4152.820513  4076.923077       3\n",
              "...             ...          ...          ...  ...          ...          ...     ...\n",
              "275243  4102.564103  5057.948718  4458.461538  ...  4376.923077  4040.000000       1\n",
              "275244  4097.435897  5052.307692  4452.307692  ...  4380.512821  4036.923077       1\n",
              "275245  4092.307692  5039.487179  4447.179487  ...  4384.102564  4032.820513       1\n",
              "275246  4088.717949  5031.794872  4442.564103  ...  4378.461538  4023.589744       1\n",
              "275247  4090.256410  5040.000000  4447.179487  ...  4381.538462  4022.051282       1\n",
              "\n",
              "[7708184 rows x 8 columns]"
            ]
          },
          "metadata": {
            "tags": []
          },
          "execution_count": 3
        }
      ]
    },
    {
      "cell_type": "code",
      "metadata": {
        "id": "cNU2qzRKMU_O"
      },
      "source": [
        "### Machine Learning with SVM Steps ###"
      ],
      "id": "cNU2qzRKMU_O",
      "execution_count": null,
      "outputs": []
    },
    {
      "cell_type": "code",
      "metadata": {
        "id": "f7890ae4"
      },
      "source": [
        "# Import Statements\n",
        "import matplotlib.pyplot as plt\n",
        "%matplotlib inline \n",
        "# Remove above since it is not in use?\n",
        "\n",
        "from sklearn.preprocessing import StandardScaler\n",
        "from sklearn.model_selection import train_test_split\n",
        "from sklearn.svm import SVC\n",
        "from sklearn.metrics import classification_report, confusion_matrix, accuracy_score"
      ],
      "id": "f7890ae4",
      "execution_count": 4,
      "outputs": []
    },
    {
      "cell_type": "code",
      "metadata": {
        "colab": {
          "base_uri": "https://localhost:8080/"
        },
        "id": "66a142da",
        "outputId": "b04abd2b-2e20-4dba-ed5a-3682a2261ef7"
      },
      "source": [
        "# Check the properties of the dataframe.\n",
        "input.shape"
      ],
      "id": "66a142da",
      "execution_count": 5,
      "outputs": [
        {
          "output_type": "execute_result",
          "data": {
            "text/plain": [
              "(7708184, 8)"
            ]
          },
          "metadata": {
            "tags": []
          },
          "execution_count": 5
        }
      ]
    },
    {
      "cell_type": "code",
      "metadata": {
        "colab": {
          "base_uri": "https://localhost:8080/"
        },
        "id": "7458e5de",
        "outputId": "4c01a7fc-06ea-4612-cac9-e49d0a628efc"
      },
      "source": [
        "# Let's divide the data into the 'x' and 'y' variables.\n",
        "\n",
        "# X will contain all of the features. In this case, it will include all of the channels/nodes.\n",
        "X = input.drop(columns=['output'])\n",
        "X.head(5)\n",
        "\n",
        "# Y will contain the target variable, which is the level of concentration.\n",
        "Y = input['output']\n",
        "Y.head(5)"
      ],
      "id": "7458e5de",
      "execution_count": 6,
      "outputs": [
        {
          "output_type": "execute_result",
          "data": {
            "text/plain": [
              "0    3\n",
              "1    3\n",
              "2    3\n",
              "3    3\n",
              "4    3\n",
              "Name: output, dtype: int64"
            ]
          },
          "metadata": {
            "tags": []
          },
          "execution_count": 6
        }
      ]
    },
    {
      "cell_type": "code",
      "metadata": {
        "colab": {
          "base_uri": "https://localhost:8080/",
          "height": 203
        },
        "id": "bb72b5aa",
        "outputId": "c4bb7b63-289f-44c7-e7f1-5fdde1a7ca63"
      },
      "source": [
        "# Scaling (for Easier Training)\n",
        "X = pd.DataFrame(StandardScaler().fit_transform(X))\n",
        "\n",
        "X.head(5)"
      ],
      "id": "bb72b5aa",
      "execution_count": 7,
      "outputs": [
        {
          "output_type": "execute_result",
          "data": {
            "text/html": [
              "<div>\n",
              "<style scoped>\n",
              "    .dataframe tbody tr th:only-of-type {\n",
              "        vertical-align: middle;\n",
              "    }\n",
              "\n",
              "    .dataframe tbody tr th {\n",
              "        vertical-align: top;\n",
              "    }\n",
              "\n",
              "    .dataframe thead th {\n",
              "        text-align: right;\n",
              "    }\n",
              "</style>\n",
              "<table border=\"1\" class=\"dataframe\">\n",
              "  <thead>\n",
              "    <tr style=\"text-align: right;\">\n",
              "      <th></th>\n",
              "      <th>0</th>\n",
              "      <th>1</th>\n",
              "      <th>2</th>\n",
              "      <th>3</th>\n",
              "      <th>4</th>\n",
              "      <th>5</th>\n",
              "      <th>6</th>\n",
              "    </tr>\n",
              "  </thead>\n",
              "  <tbody>\n",
              "    <tr>\n",
              "      <th>0</th>\n",
              "      <td>0.292743</td>\n",
              "      <td>-0.331950</td>\n",
              "      <td>-0.025786</td>\n",
              "      <td>1.405936</td>\n",
              "      <td>0.080180</td>\n",
              "      <td>-0.072995</td>\n",
              "      <td>-0.772793</td>\n",
              "    </tr>\n",
              "    <tr>\n",
              "      <th>1</th>\n",
              "      <td>0.283083</td>\n",
              "      <td>-0.345186</td>\n",
              "      <td>0.017198</td>\n",
              "      <td>1.398873</td>\n",
              "      <td>0.061899</td>\n",
              "      <td>-0.134863</td>\n",
              "      <td>-0.747703</td>\n",
              "    </tr>\n",
              "    <tr>\n",
              "      <th>2</th>\n",
              "      <td>0.302403</td>\n",
              "      <td>-0.384894</td>\n",
              "      <td>0.011825</td>\n",
              "      <td>1.434189</td>\n",
              "      <td>0.107601</td>\n",
              "      <td>-0.240924</td>\n",
              "      <td>-0.814608</td>\n",
              "    </tr>\n",
              "    <tr>\n",
              "      <th>3</th>\n",
              "      <td>0.263764</td>\n",
              "      <td>-0.431219</td>\n",
              "      <td>-0.031159</td>\n",
              "      <td>1.405936</td>\n",
              "      <td>-0.002083</td>\n",
              "      <td>-0.258601</td>\n",
              "      <td>-0.906603</td>\n",
              "    </tr>\n",
              "    <tr>\n",
              "      <th>4</th>\n",
              "      <td>0.234784</td>\n",
              "      <td>-0.378276</td>\n",
              "      <td>-0.031159</td>\n",
              "      <td>1.335304</td>\n",
              "      <td>-0.166608</td>\n",
              "      <td>-0.223247</td>\n",
              "      <td>-0.848061</td>\n",
              "    </tr>\n",
              "  </tbody>\n",
              "</table>\n",
              "</div>"
            ],
            "text/plain": [
              "          0         1         2         3         4         5         6\n",
              "0  0.292743 -0.331950 -0.025786  1.405936  0.080180 -0.072995 -0.772793\n",
              "1  0.283083 -0.345186  0.017198  1.398873  0.061899 -0.134863 -0.747703\n",
              "2  0.302403 -0.384894  0.011825  1.434189  0.107601 -0.240924 -0.814608\n",
              "3  0.263764 -0.431219 -0.031159  1.405936 -0.002083 -0.258601 -0.906603\n",
              "4  0.234784 -0.378276 -0.031159  1.335304 -0.166608 -0.223247 -0.848061"
            ]
          },
          "metadata": {
            "tags": []
          },
          "execution_count": 7
        }
      ]
    },
    {
      "cell_type": "code",
      "metadata": {
        "id": "0151ad36"
      },
      "source": [
        "# Split into Training and Testing\n",
        "# For this project, the test size will be 30% of the total data set.\n",
        "\n",
        "X_Train, X_Test, Y_Train, Y_Test = train_test_split(X, Y, test_size = 0.30)"
      ],
      "id": "0151ad36",
      "execution_count": 8,
      "outputs": []
    },
    {
      "cell_type": "code",
      "metadata": {
        "id": "f44abf7f"
      },
      "source": [
        "### Training and Testing Steps ###"
      ],
      "id": "f44abf7f",
      "execution_count": null,
      "outputs": []
    },
    {
      "cell_type": "code",
      "metadata": {
        "id": "ea41936b"
      },
      "source": [
        "# This function allows you to run all of the steps to train and test the model with the desired kernel.\n",
        "# You will not be able to change any of the other parameters. (Ex. Gamma and Regularization/C)\n",
        "def runSVC(myKernel, X_Train, Y_Train, X_Test, Y_Test):\n",
        "    # Train the Algorithm\n",
        "    svclassifier = SVC(kernel=myKernel)\n",
        "    svclassifier.fit(X_Train, Y_Train)\n",
        "    print(\"Model has been trained successfully.\")\n",
        "\n",
        "    # Make Predictions\n",
        "    Y_Pred = svclassifier.predict(X_Test)\n",
        "    print(\"Model has made its predictions.\")\n",
        "    \n",
        "    # Evaluate Predictions\n",
        "    print(confusion_matrix(Y_Test, Y_Pred))\n",
        "    print(classification_report(Y_Test, Y_Pred))\n",
        "    print(accuracy_score(Y_Test, Y_Pred))\n",
        "    return svclassifier"
      ],
      "id": "ea41936b",
      "execution_count": 9,
      "outputs": []
    },
    {
      "cell_type": "code",
      "metadata": {
        "id": "9f618b1f"
      },
      "source": [
        "# To Run with Linear Kernel\n",
        "linear_model = runSVC(\"linear\", X_Train, Y_Train, X_Test, Y_Test)"
      ],
      "id": "9f618b1f",
      "execution_count": null,
      "outputs": []
    },
    {
      "cell_type": "code",
      "metadata": {
        "id": "baca5d24"
      },
      "source": [
        "# To Run with RBF Kernel\n",
        "rbf_model = runSVC(\"rbf\", X_Train, Y_Train, X_Test, Y_Test)"
      ],
      "id": "baca5d24",
      "execution_count": null,
      "outputs": []
    },
    {
      "cell_type": "code",
      "metadata": {
        "id": "04fe5bfe"
      },
      "source": [
        "# To Run with Polynomial Kernel\n",
        "poly_model = runSVC(\"poly\", X_Train, Y_Train, X_Test, Y_Test)"
      ],
      "id": "04fe5bfe",
      "execution_count": null,
      "outputs": []
    },
    {
      "cell_type": "code",
      "metadata": {
        "id": "3d7e2c4e"
      },
      "source": [
        "# Now, look at all of the results to determine which of the kernels is performing the best.\n",
        "# We can improve on that specific kernel-type by tuning the Gamma and Regularization/C parameters."
      ],
      "id": "3d7e2c4e",
      "execution_count": null,
      "outputs": []
    },
    {
      "cell_type": "code",
      "metadata": {
        "id": "a8b5d2d9"
      },
      "source": [
        "# It is easier to work with the Gamma parameter, so let's start there.\n",
        "# Run this only ONCE using the BEST kernel type from the last step.\n",
        "def runSVCwithGamma(myKernel, X_Train, Y_Train, X_Test, Y_Test):\n",
        "    # Train the Algorithm\n",
        "    # By default, Gamma was set to Scale. Now, we will try it with Auto.\n",
        "    svclassifier = SVC(kernel=myKernel, gamma='auto')\n",
        "    svclassifier.fit(X_Train, Y_Train)\n",
        "    print(\"Model has been trained successfully.\")\n",
        "\n",
        "    # Make Predictions\n",
        "    Y_Pred = svclassifier.predict(X_Test)\n",
        "    print(\"Model has made its predictions.\")\n",
        "    \n",
        "    # Evaluate Predictions\n",
        "    print(confusion_matrix(Y_Test, Y_Pred))\n",
        "    print(classification_report(Y_Test, Y_Pred))\n",
        "    print(accuracy_score(Y_Test, Y_Pred))\n",
        "    return svclassifier"
      ],
      "id": "a8b5d2d9",
      "execution_count": null,
      "outputs": []
    },
    {
      "cell_type": "code",
      "metadata": {
        "id": "e9131145"
      },
      "source": [
        "# To Run with Linear Kernel\n",
        "linear_gamma_model = runSVCwithGamma(\"linear\", X_Train, Y_Train, X_Test, Y_Test)"
      ],
      "id": "e9131145",
      "execution_count": null,
      "outputs": []
    },
    {
      "cell_type": "code",
      "metadata": {
        "id": "53f70096"
      },
      "source": [
        "# To Run with RBF Kernel\n",
        "rbf_gamma_model = runSVCwithGamma(\"rbf\", X_Train, Y_Train, X_Test, Y_Test)"
      ],
      "id": "53f70096",
      "execution_count": null,
      "outputs": []
    },
    {
      "cell_type": "code",
      "metadata": {
        "id": "f6eb9139"
      },
      "source": [
        "# To Run with Polynomial Kernel\n",
        "poly_gamma_model = runSVCwithGamma(\"polynomial\", X_Train, Y_Train, X_Test, Y_Test)"
      ],
      "id": "f6eb9139",
      "execution_count": null,
      "outputs": []
    },
    {
      "cell_type": "code",
      "metadata": {
        "id": "6fb37af6"
      },
      "source": [
        "# Now, let's compare your newest results (with Gamma on Auto) to the first time where Gamma was set to Scale.\n",
        "# Decide which kernel-gamma combo performed the best.\n",
        "# If necessary, vary the regularization (C) parameter."
      ],
      "id": "6fb37af6",
      "execution_count": null,
      "outputs": []
    },
    {
      "cell_type": "code",
      "metadata": {
        "id": "a1f698e0"
      },
      "source": [
        "def runSVCwithGammaAndC(myKernel, myGamma, X_Train, Y_Train, X_Test, Y_Test):\n",
        "    # Train the Algorithm\n",
        "    # By default, C is set to 1.\n",
        "    # We'll try two other numbers, but you can try any desired number (>0).\n",
        "    \n",
        "    # First Try: C=0.5\n",
        "    print(\"Trying with C=0.5\")\n",
        "    svclassifier_1 = SVC(kernel=myKernel, gamma=myGamma, C=0.5)\n",
        "    svclassifier_1.fit(X_Train, Y_Train)\n",
        "    print(\"Model has been trained successfully.\")\n",
        "\n",
        "    # Make Predictions\n",
        "    Y_Pred = svclassifier_1.predict(X_Test)\n",
        "    print(\"Model has made its predictions.\")\n",
        "    \n",
        "    # Evaluate Predictions\n",
        "    print(confusion_matrix(Y_Test, Y_Pred))\n",
        "    print(classification_report(Y_Test, Y_Pred))\n",
        "    print(accuracy_score(Y_Test, Y_Pred))\n",
        "    \n",
        "    # Second Try: C=5\n",
        "    print(\"Trying with C=5\")\n",
        "    svclassifier_2 = SVC(kernel=myKernel, gamma=myGamma, C=5)\n",
        "    svclassifier_2.fit(X_Train, Y_Train)\n",
        "    print(\"Model has been trained successfully.\")\n",
        "\n",
        "    # Make Predictions\n",
        "    Y_Pred = svclassifier_2.predict(X_Test)\n",
        "    print(\"Model has made its predictions.\")\n",
        "    \n",
        "    # Evaluate Predictions\n",
        "    print(confusion_matrix(Y_Test, Y_Pred))\n",
        "    print(classification_report(Y_Test, Y_Pred))\n",
        "    print(accuracy_score(Y_Test, Y_Pred))\n",
        "\n",
        "    return svclassifier_1, svclassifier_2"
      ],
      "id": "a1f698e0",
      "execution_count": null,
      "outputs": []
    },
    {
      "cell_type": "code",
      "metadata": {
        "id": "dee2bf80"
      },
      "source": [
        "# To Run with Linear Kernel\n",
        "linear_scale_c_model_1, linear_scale_c_model_2 = runSVCwithGammaAndC(\"linear\", \"scale\", X_Train, Y_Train, X_Test, Y_Test)\n",
        "linear_auto_c_model_1, linear_auto_c_model_2 = runSVCwithGammaAndC(\"linear\", \"auto\", X_Train, Y_Train, X_Test, Y_Test)"
      ],
      "id": "dee2bf80",
      "execution_count": null,
      "outputs": []
    },
    {
      "cell_type": "code",
      "metadata": {
        "id": "9fa2408e"
      },
      "source": [
        "# To Run with RBF Kernel\n",
        "rbf_scale_c_model_1, rbf_scale_c_model_2 = runSVCwithGammaAndC(\"rbf\", \"scale\", X_Train, Y_Train, X_Test, Y_Test)\n",
        "rbf_auto_c_model_1, rbf_auto_c_model_2 = runSVCwithGammaAndC(\"rbf\", \"auto\", X_Train, Y_Train, X_Test, Y_Test)"
      ],
      "id": "9fa2408e",
      "execution_count": null,
      "outputs": []
    },
    {
      "cell_type": "code",
      "metadata": {
        "id": "14525d76"
      },
      "source": [
        "# To Run with Polynomial Kernel\n",
        "poly_scale_c_model_1, poly_scale_c_model_2 = runSVCwithGammaAndC(\"polynomial\", \"scale\", X_Train, Y_Train, X_Test, Y_Test)\n",
        "poly_auto_c_model_1, poly_auto_c_model_2= runSVCwithGammaAndC(\"polynomial\", \"auto\", X_Train, Y_Train, X_Test, Y_Test)"
      ],
      "id": "14525d76",
      "execution_count": null,
      "outputs": []
    },
    {
      "cell_type": "code",
      "metadata": {
        "id": "l25aJmfcSkpR"
      },
      "source": [
        "### Exporting the File using Pickle ###\n",
        "# So that no one has to wait to use the machine learning model."
      ],
      "id": "l25aJmfcSkpR",
      "execution_count": null,
      "outputs": []
    },
    {
      "cell_type": "code",
      "metadata": {
        "id": "x37BJhgrSnOf"
      },
      "source": [
        "# Import Statements\n",
        "import pickle"
      ],
      "id": "x37BJhgrSnOf",
      "execution_count": null,
      "outputs": []
    },
    {
      "cell_type": "code",
      "metadata": {
        "id": "iRQOqvd6SywF"
      },
      "source": [
        "# Use pickle to save the model.\n",
        "myModel = linear_model ### Enter your best-performing model.\n",
        "model_file_name = \"Attention_Model.sav\"\n",
        "pickle.dump(myModel, open(model_file_name, \"wb\"))"
      ],
      "id": "iRQOqvd6SywF",
      "execution_count": null,
      "outputs": []
    },
    {
      "cell_type": "code",
      "metadata": {
        "id": "coX1mAd1TExQ"
      },
      "source": [
        "# Future Code to Load the Model\n",
        "# Copy and paste it into the desired notebook.\n",
        "to_load_file_name = \"Attention_Model.sav\"\n",
        "loaded_model = pickle.load(open(filename, \"rb\"))\n",
        "\n",
        "# Now, you can do whatever you want with it. (Predict and test with your own data.)"
      ],
      "id": "coX1mAd1TExQ",
      "execution_count": null,
      "outputs": []
    },
    {
      "cell_type": "code",
      "metadata": {
        "id": "MB03-eJdSe0m"
      },
      "source": [
        "### Future Steps ###"
      ],
      "id": "MB03-eJdSe0m",
      "execution_count": null,
      "outputs": []
    },
    {
      "cell_type": "code",
      "metadata": {
        "id": "5a0ba118"
      },
      "source": [
        "### Alternative: Using GridSearchCV to vary your parameters. \n",
        "# I still need to look into it."
      ],
      "id": "5a0ba118",
      "execution_count": null,
      "outputs": []
    },
    {
      "cell_type": "code",
      "metadata": {
        "id": "09b9d0d9"
      },
      "source": [
        "### Potential Visualization ###\n",
        "\n",
        "# I have not yet decided on whether I should visualize the current data as a way to determine which kernel is best.\n",
        "# Go back to..."
      ],
      "id": "09b9d0d9",
      "execution_count": null,
      "outputs": []
    }
  ]
}