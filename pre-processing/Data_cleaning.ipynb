{
  "nbformat": 4,
  "nbformat_minor": 0,
  "metadata": {
    "colab": {
      "name": "Data cleaning.ipynb",
      "provenance": [],
      "collapsed_sections": [
        "3c9lYOlGGW3P",
        "g9NQ5CtCG1rT",
        "lKNRtKdbI0rv",
        "tECph3hrILYA"
      ]
    },
    "kernelspec": {
      "name": "python3",
      "display_name": "Python 3"
    },
    "language_info": {
      "name": "python"
    }
  },
  "cells": [
    {
      "cell_type": "markdown",
      "metadata": {
        "id": "-gwE7Cl7E3vI"
      },
      "source": [
        "## Extract Dataset\n",
        "### We are using this dataset (in output section): https://www.kaggle.com/nitinsss/extracting-useful-data-from-the-mat-files/data?select=subject_1.pkl"
      ]
    },
    {
      "cell_type": "markdown",
      "metadata": {
        "id": "x3PlwbsdofsH"
      },
      "source": [
        "convert pickle to csv"
      ]
    },
    {
      "cell_type": "code",
      "metadata": {
        "id": "G9lpiKOapijY"
      },
      "source": [
        "import pickle\n",
        "import pandas as pd\n",
        "import os"
      ],
      "execution_count": 1,
      "outputs": []
    },
    {
      "cell_type": "code",
      "metadata": {
        "id": "NwMOEP4-oe2_"
      },
      "source": [
        "input = pd.DataFrame()\n",
        "output = pd.DataFrame()\n",
        "for dirname, _, filenames in os.walk('/content/data'):\n",
        "    for filename in filenames:\n",
        "      data = pickle.load(open(dirname+'/'+filename, 'rb'))\n",
        "      for i in range(1,5):\n",
        "        trial = 'trial_'+ str(i)\n",
        "        # print(trial)\n",
        "        focussed = pd.DataFrame(data[trial]['focussed'])\n",
        "        unfocussed = pd.DataFrame(data[trial]['unfocussed'])\n",
        "        drowsed = pd.DataFrame(data[trial]['drowsed'])\n",
        "        focussed_output = pd.DataFrame([3] * len(focussed))\n",
        "        unfocussed_output = pd.DataFrame([2] * len(unfocussed))\n",
        "        drowsed_output = pd.DataFrame([1] * len(drowsed))\n",
        "        input = pd.concat([focussed,unfocussed, drowsed,input],axis=0)\n",
        "        output = pd.concat([focussed_output,unfocussed_output, drowsed_output,output],axis=0)"
      ],
      "execution_count": 2,
      "outputs": []
    },
    {
      "cell_type": "code",
      "metadata": {
        "id": "R_tZaghCJuxd",
        "outputId": "716a6e4d-2861-432e-8414-11a6d84d3510",
        "colab": {
          "base_uri": "https://localhost:8080/",
          "height": 419
        }
      },
      "source": [
        "input"
      ],
      "execution_count": 3,
      "outputs": [
        {
          "output_type": "execute_result",
          "data": {
            "text/html": [
              "<div>\n",
              "<style scoped>\n",
              "    .dataframe tbody tr th:only-of-type {\n",
              "        vertical-align: middle;\n",
              "    }\n",
              "\n",
              "    .dataframe tbody tr th {\n",
              "        vertical-align: top;\n",
              "    }\n",
              "\n",
              "    .dataframe thead th {\n",
              "        text-align: right;\n",
              "    }\n",
              "</style>\n",
              "<table border=\"1\" class=\"dataframe\">\n",
              "  <thead>\n",
              "    <tr style=\"text-align: right;\">\n",
              "      <th></th>\n",
              "      <th>0</th>\n",
              "      <th>1</th>\n",
              "      <th>2</th>\n",
              "      <th>3</th>\n",
              "      <th>4</th>\n",
              "      <th>5</th>\n",
              "      <th>6</th>\n",
              "    </tr>\n",
              "  </thead>\n",
              "  <tbody>\n",
              "    <tr>\n",
              "      <th>0</th>\n",
              "      <td>3992.307692</td>\n",
              "      <td>5018.974359</td>\n",
              "      <td>4315.897436</td>\n",
              "      <td>4384.615385</td>\n",
              "      <td>4033.846154</td>\n",
              "      <td>4161.538462</td>\n",
              "      <td>4081.538462</td>\n",
              "    </tr>\n",
              "    <tr>\n",
              "      <th>1</th>\n",
              "      <td>3991.794872</td>\n",
              "      <td>5017.948718</td>\n",
              "      <td>4320.000000</td>\n",
              "      <td>4384.102564</td>\n",
              "      <td>4032.820513</td>\n",
              "      <td>4157.948718</td>\n",
              "      <td>4083.076923</td>\n",
              "    </tr>\n",
              "    <tr>\n",
              "      <th>2</th>\n",
              "      <td>3992.820513</td>\n",
              "      <td>5014.871795</td>\n",
              "      <td>4319.487179</td>\n",
              "      <td>4386.666667</td>\n",
              "      <td>4035.384615</td>\n",
              "      <td>4151.794872</td>\n",
              "      <td>4078.974359</td>\n",
              "    </tr>\n",
              "    <tr>\n",
              "      <th>3</th>\n",
              "      <td>3990.769231</td>\n",
              "      <td>5011.282051</td>\n",
              "      <td>4315.384615</td>\n",
              "      <td>4384.615385</td>\n",
              "      <td>4029.230769</td>\n",
              "      <td>4150.769231</td>\n",
              "      <td>4073.333333</td>\n",
              "    </tr>\n",
              "    <tr>\n",
              "      <th>4</th>\n",
              "      <td>3989.230769</td>\n",
              "      <td>5015.384615</td>\n",
              "      <td>4315.384615</td>\n",
              "      <td>4379.487179</td>\n",
              "      <td>4020.000000</td>\n",
              "      <td>4152.820513</td>\n",
              "      <td>4076.923077</td>\n",
              "    </tr>\n",
              "    <tr>\n",
              "      <th>...</th>\n",
              "      <td>...</td>\n",
              "      <td>...</td>\n",
              "      <td>...</td>\n",
              "      <td>...</td>\n",
              "      <td>...</td>\n",
              "      <td>...</td>\n",
              "      <td>...</td>\n",
              "    </tr>\n",
              "    <tr>\n",
              "      <th>275243</th>\n",
              "      <td>4102.564103</td>\n",
              "      <td>5057.948718</td>\n",
              "      <td>4458.461538</td>\n",
              "      <td>4232.307692</td>\n",
              "      <td>4121.538462</td>\n",
              "      <td>4376.923077</td>\n",
              "      <td>4040.000000</td>\n",
              "    </tr>\n",
              "    <tr>\n",
              "      <th>275244</th>\n",
              "      <td>4097.435897</td>\n",
              "      <td>5052.307692</td>\n",
              "      <td>4452.307692</td>\n",
              "      <td>4232.307692</td>\n",
              "      <td>4116.923077</td>\n",
              "      <td>4380.512821</td>\n",
              "      <td>4036.923077</td>\n",
              "    </tr>\n",
              "    <tr>\n",
              "      <th>275245</th>\n",
              "      <td>4092.307692</td>\n",
              "      <td>5039.487179</td>\n",
              "      <td>4447.179487</td>\n",
              "      <td>4234.871795</td>\n",
              "      <td>4108.717949</td>\n",
              "      <td>4384.102564</td>\n",
              "      <td>4032.820513</td>\n",
              "    </tr>\n",
              "    <tr>\n",
              "      <th>275246</th>\n",
              "      <td>4088.717949</td>\n",
              "      <td>5031.794872</td>\n",
              "      <td>4442.564103</td>\n",
              "      <td>4231.282051</td>\n",
              "      <td>4097.948718</td>\n",
              "      <td>4378.461538</td>\n",
              "      <td>4023.589744</td>\n",
              "    </tr>\n",
              "    <tr>\n",
              "      <th>275247</th>\n",
              "      <td>4090.256410</td>\n",
              "      <td>5040.000000</td>\n",
              "      <td>4447.179487</td>\n",
              "      <td>4235.897436</td>\n",
              "      <td>4098.974359</td>\n",
              "      <td>4381.538462</td>\n",
              "      <td>4022.051282</td>\n",
              "    </tr>\n",
              "  </tbody>\n",
              "</table>\n",
              "<p>7708184 rows × 7 columns</p>\n",
              "</div>"
            ],
            "text/plain": [
              "                  0            1  ...            5            6\n",
              "0       3992.307692  5018.974359  ...  4161.538462  4081.538462\n",
              "1       3991.794872  5017.948718  ...  4157.948718  4083.076923\n",
              "2       3992.820513  5014.871795  ...  4151.794872  4078.974359\n",
              "3       3990.769231  5011.282051  ...  4150.769231  4073.333333\n",
              "4       3989.230769  5015.384615  ...  4152.820513  4076.923077\n",
              "...             ...          ...  ...          ...          ...\n",
              "275243  4102.564103  5057.948718  ...  4376.923077  4040.000000\n",
              "275244  4097.435897  5052.307692  ...  4380.512821  4036.923077\n",
              "275245  4092.307692  5039.487179  ...  4384.102564  4032.820513\n",
              "275246  4088.717949  5031.794872  ...  4378.461538  4023.589744\n",
              "275247  4090.256410  5040.000000  ...  4381.538462  4022.051282\n",
              "\n",
              "[7708184 rows x 7 columns]"
            ]
          },
          "metadata": {
            "tags": []
          },
          "execution_count": 3
        }
      ]
    },
    {
      "cell_type": "code",
      "metadata": {
        "id": "YS97167tJ7in",
        "outputId": "cce024f0-318e-4b4a-dffa-ea2872658690",
        "colab": {
          "base_uri": "https://localhost:8080/",
          "height": 419
        }
      },
      "source": [
        "output"
      ],
      "execution_count": 4,
      "outputs": [
        {
          "output_type": "execute_result",
          "data": {
            "text/html": [
              "<div>\n",
              "<style scoped>\n",
              "    .dataframe tbody tr th:only-of-type {\n",
              "        vertical-align: middle;\n",
              "    }\n",
              "\n",
              "    .dataframe tbody tr th {\n",
              "        vertical-align: top;\n",
              "    }\n",
              "\n",
              "    .dataframe thead th {\n",
              "        text-align: right;\n",
              "    }\n",
              "</style>\n",
              "<table border=\"1\" class=\"dataframe\">\n",
              "  <thead>\n",
              "    <tr style=\"text-align: right;\">\n",
              "      <th></th>\n",
              "      <th>0</th>\n",
              "    </tr>\n",
              "  </thead>\n",
              "  <tbody>\n",
              "    <tr>\n",
              "      <th>0</th>\n",
              "      <td>3</td>\n",
              "    </tr>\n",
              "    <tr>\n",
              "      <th>1</th>\n",
              "      <td>3</td>\n",
              "    </tr>\n",
              "    <tr>\n",
              "      <th>2</th>\n",
              "      <td>3</td>\n",
              "    </tr>\n",
              "    <tr>\n",
              "      <th>3</th>\n",
              "      <td>3</td>\n",
              "    </tr>\n",
              "    <tr>\n",
              "      <th>4</th>\n",
              "      <td>3</td>\n",
              "    </tr>\n",
              "    <tr>\n",
              "      <th>...</th>\n",
              "      <td>...</td>\n",
              "    </tr>\n",
              "    <tr>\n",
              "      <th>275243</th>\n",
              "      <td>1</td>\n",
              "    </tr>\n",
              "    <tr>\n",
              "      <th>275244</th>\n",
              "      <td>1</td>\n",
              "    </tr>\n",
              "    <tr>\n",
              "      <th>275245</th>\n",
              "      <td>1</td>\n",
              "    </tr>\n",
              "    <tr>\n",
              "      <th>275246</th>\n",
              "      <td>1</td>\n",
              "    </tr>\n",
              "    <tr>\n",
              "      <th>275247</th>\n",
              "      <td>1</td>\n",
              "    </tr>\n",
              "  </tbody>\n",
              "</table>\n",
              "<p>7708184 rows × 1 columns</p>\n",
              "</div>"
            ],
            "text/plain": [
              "        0\n",
              "0       3\n",
              "1       3\n",
              "2       3\n",
              "3       3\n",
              "4       3\n",
              "...    ..\n",
              "275243  1\n",
              "275244  1\n",
              "275245  1\n",
              "275246  1\n",
              "275247  1\n",
              "\n",
              "[7708184 rows x 1 columns]"
            ]
          },
          "metadata": {
            "tags": []
          },
          "execution_count": 4
        }
      ]
    },
    {
      "cell_type": "markdown",
      "metadata": {
        "id": "EnhR5vMzGPYR"
      },
      "source": [
        "merge data and export to csv"
      ]
    },
    {
      "cell_type": "code",
      "metadata": {
        "id": "aEdd1KAsAxBU"
      },
      "source": [
        "# input[\"output\"] = output\n",
        "# input\n",
        "# input.to_csv('eeg_data.csv')"
      ],
      "execution_count": 5,
      "outputs": []
    }
  ]
}