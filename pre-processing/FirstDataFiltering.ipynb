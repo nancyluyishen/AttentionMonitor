{
  "nbformat": 4,
  "nbformat_minor": 0,
  "metadata": {
    "colab": {
      "name": "FirstDataFiltering.ipynb",
      "provenance": []
    },
    "kernelspec": {
      "name": "python3",
      "display_name": "Python 3"
    },
    "language_info": {
      "name": "python"
    }
  },
  "cells": [
    {
      "cell_type": "markdown",
      "metadata": {
        "id": "_o1cueIJE6Fx"
      },
      "source": [
        "## Installing MNE"
      ]
    },
    {
      "cell_type": "code",
      "metadata": {
        "colab": {
          "base_uri": "https://localhost:8080/"
        },
        "id": "GtHlt8a0__vl",
        "outputId": "27bb3296-e0f4-42ed-8cd9-9bf09ecabd24"
      },
      "source": [
        "!pip install mne"
      ],
      "execution_count": null,
      "outputs": [
        {
          "output_type": "stream",
          "text": [
            "Collecting mne\n",
            "  Downloading mne-0.23.0-py3-none-any.whl (6.9 MB)\n",
            "\u001b[K     |████████████████████████████████| 6.9 MB 4.3 MB/s \n",
            "\u001b[?25hRequirement already satisfied: scipy>=1.1.0 in /usr/local/lib/python3.7/dist-packages (from mne) (1.4.1)\n",
            "Requirement already satisfied: numpy>=1.15.4 in /usr/local/lib/python3.7/dist-packages (from mne) (1.19.5)\n",
            "Installing collected packages: mne\n",
            "Successfully installed mne-0.23.0\n"
          ],
          "name": "stdout"
        }
      ]
    },
    {
      "cell_type": "markdown",
      "metadata": {
        "id": "-gwE7Cl7E3vI"
      },
      "source": [
        "## Reading one dataset\n",
        "### We are using this dataset: https://www.kaggle.com/dqmonn/personal-eeg-tasks"
      ]
    },
    {
      "cell_type": "code",
      "metadata": {
        "colab": {
          "base_uri": "https://localhost:8080/",
          "height": 437
        },
        "id": "oWeNhrnGAEqJ",
        "outputId": "8b795f1c-c91a-4b2b-8a9c-1522fcb010bb"
      },
      "source": [
        "import mne\n",
        "import pandas as pd\n",
        "import os\n",
        "import matplotlib.pyplot as plt\n",
        "\n",
        "\n",
        "#Reading one file\n",
        "path = \"/content/data/01uta.csv\"\n",
        "df = pd.read_csv(path)\n",
        "df\n"
      ],
      "execution_count": null,
      "outputs": [
        {
          "output_type": "execute_result",
          "data": {
            "text/html": [
              "<div>\n",
              "<style scoped>\n",
              "    .dataframe tbody tr th:only-of-type {\n",
              "        vertical-align: middle;\n",
              "    }\n",
              "\n",
              "    .dataframe tbody tr th {\n",
              "        vertical-align: top;\n",
              "    }\n",
              "\n",
              "    .dataframe thead th {\n",
              "        text-align: right;\n",
              "    }\n",
              "</style>\n",
              "<table border=\"1\" class=\"dataframe\">\n",
              "  <thead>\n",
              "    <tr style=\"text-align: right;\">\n",
              "      <th></th>\n",
              "      <th>timestamp</th>\n",
              "      <th>alpha0</th>\n",
              "      <th>beta0</th>\n",
              "      <th>gamma0</th>\n",
              "      <th>delta0</th>\n",
              "      <th>theta0</th>\n",
              "      <th>alpha1</th>\n",
              "      <th>beta1</th>\n",
              "      <th>gamma1</th>\n",
              "      <th>delta1</th>\n",
              "      <th>theta1</th>\n",
              "      <th>alpha2</th>\n",
              "      <th>beta2</th>\n",
              "      <th>gamma2</th>\n",
              "      <th>delta2</th>\n",
              "      <th>theta2</th>\n",
              "      <th>alpha3</th>\n",
              "      <th>beta3</th>\n",
              "      <th>gamma3</th>\n",
              "      <th>delta3</th>\n",
              "      <th>theta3</th>\n",
              "      <th>concentration</th>\n",
              "    </tr>\n",
              "  </thead>\n",
              "  <tbody>\n",
              "    <tr>\n",
              "      <th>0</th>\n",
              "      <td>1543421837</td>\n",
              "      <td>2.457797</td>\n",
              "      <td>1.670815</td>\n",
              "      <td>0.971772</td>\n",
              "      <td>7.503653</td>\n",
              "      <td>8.018853</td>\n",
              "      <td>3.337516</td>\n",
              "      <td>1.463929</td>\n",
              "      <td>0.552389</td>\n",
              "      <td>5.624531</td>\n",
              "      <td>4.807890</td>\n",
              "      <td>1.087653</td>\n",
              "      <td>0.965058</td>\n",
              "      <td>0.301345</td>\n",
              "      <td>2.819282</td>\n",
              "      <td>2.657543</td>\n",
              "      <td>5.089558</td>\n",
              "      <td>2.124802</td>\n",
              "      <td>1.327723</td>\n",
              "      <td>2.870171</td>\n",
              "      <td>3.531350</td>\n",
              "      <td>0.7</td>\n",
              "    </tr>\n",
              "    <tr>\n",
              "      <th>1</th>\n",
              "      <td>1543421838</td>\n",
              "      <td>7.278750</td>\n",
              "      <td>3.281481</td>\n",
              "      <td>1.597924</td>\n",
              "      <td>12.071848</td>\n",
              "      <td>14.154646</td>\n",
              "      <td>1.783385</td>\n",
              "      <td>0.915233</td>\n",
              "      <td>0.414548</td>\n",
              "      <td>1.881122</td>\n",
              "      <td>2.811120</td>\n",
              "      <td>1.381587</td>\n",
              "      <td>0.782375</td>\n",
              "      <td>0.407528</td>\n",
              "      <td>1.370937</td>\n",
              "      <td>0.977480</td>\n",
              "      <td>3.755548</td>\n",
              "      <td>2.884407</td>\n",
              "      <td>1.547916</td>\n",
              "      <td>15.070847</td>\n",
              "      <td>11.062639</td>\n",
              "      <td>0.7</td>\n",
              "    </tr>\n",
              "    <tr>\n",
              "      <th>2</th>\n",
              "      <td>1543421838</td>\n",
              "      <td>2.464989</td>\n",
              "      <td>1.866851</td>\n",
              "      <td>1.312936</td>\n",
              "      <td>13.637771</td>\n",
              "      <td>9.638646</td>\n",
              "      <td>2.827913</td>\n",
              "      <td>1.369532</td>\n",
              "      <td>0.524057</td>\n",
              "      <td>5.195112</td>\n",
              "      <td>6.626342</td>\n",
              "      <td>1.240363</td>\n",
              "      <td>0.928681</td>\n",
              "      <td>0.503707</td>\n",
              "      <td>2.907700</td>\n",
              "      <td>3.667357</td>\n",
              "      <td>5.135420</td>\n",
              "      <td>1.993292</td>\n",
              "      <td>1.393520</td>\n",
              "      <td>6.241178</td>\n",
              "      <td>11.484470</td>\n",
              "      <td>0.7</td>\n",
              "    </tr>\n",
              "    <tr>\n",
              "      <th>3</th>\n",
              "      <td>1543421839</td>\n",
              "      <td>1.870220</td>\n",
              "      <td>1.823971</td>\n",
              "      <td>1.210935</td>\n",
              "      <td>10.574000</td>\n",
              "      <td>4.712053</td>\n",
              "      <td>3.122079</td>\n",
              "      <td>1.137524</td>\n",
              "      <td>0.516992</td>\n",
              "      <td>6.416479</td>\n",
              "      <td>5.014959</td>\n",
              "      <td>1.250427</td>\n",
              "      <td>0.852920</td>\n",
              "      <td>0.371187</td>\n",
              "      <td>2.679052</td>\n",
              "      <td>2.901553</td>\n",
              "      <td>3.919021</td>\n",
              "      <td>2.392887</td>\n",
              "      <td>1.707030</td>\n",
              "      <td>5.713234</td>\n",
              "      <td>6.814762</td>\n",
              "      <td>0.7</td>\n",
              "    </tr>\n",
              "    <tr>\n",
              "      <th>4</th>\n",
              "      <td>1543421839</td>\n",
              "      <td>3.427257</td>\n",
              "      <td>1.716824</td>\n",
              "      <td>1.053839</td>\n",
              "      <td>5.442770</td>\n",
              "      <td>7.256282</td>\n",
              "      <td>4.743657</td>\n",
              "      <td>1.566512</td>\n",
              "      <td>0.670371</td>\n",
              "      <td>5.014369</td>\n",
              "      <td>7.079632</td>\n",
              "      <td>2.455614</td>\n",
              "      <td>2.144019</td>\n",
              "      <td>0.687826</td>\n",
              "      <td>6.859645</td>\n",
              "      <td>10.960431</td>\n",
              "      <td>4.149160</td>\n",
              "      <td>2.267537</td>\n",
              "      <td>1.423119</td>\n",
              "      <td>4.041263</td>\n",
              "      <td>7.076259</td>\n",
              "      <td>0.7</td>\n",
              "    </tr>\n",
              "    <tr>\n",
              "      <th>...</th>\n",
              "      <td>...</td>\n",
              "      <td>...</td>\n",
              "      <td>...</td>\n",
              "      <td>...</td>\n",
              "      <td>...</td>\n",
              "      <td>...</td>\n",
              "      <td>...</td>\n",
              "      <td>...</td>\n",
              "      <td>...</td>\n",
              "      <td>...</td>\n",
              "      <td>...</td>\n",
              "      <td>...</td>\n",
              "      <td>...</td>\n",
              "      <td>...</td>\n",
              "      <td>...</td>\n",
              "      <td>...</td>\n",
              "      <td>...</td>\n",
              "      <td>...</td>\n",
              "      <td>...</td>\n",
              "      <td>...</td>\n",
              "      <td>...</td>\n",
              "      <td>...</td>\n",
              "    </tr>\n",
              "    <tr>\n",
              "      <th>62</th>\n",
              "      <td>1543421868</td>\n",
              "      <td>2.501592</td>\n",
              "      <td>1.899136</td>\n",
              "      <td>0.831537</td>\n",
              "      <td>7.287555</td>\n",
              "      <td>3.250146</td>\n",
              "      <td>2.789635</td>\n",
              "      <td>1.279087</td>\n",
              "      <td>0.535059</td>\n",
              "      <td>4.764756</td>\n",
              "      <td>3.989755</td>\n",
              "      <td>3.253160</td>\n",
              "      <td>1.606658</td>\n",
              "      <td>0.722713</td>\n",
              "      <td>4.594727</td>\n",
              "      <td>4.394063</td>\n",
              "      <td>4.257141</td>\n",
              "      <td>1.352162</td>\n",
              "      <td>1.302274</td>\n",
              "      <td>10.526776</td>\n",
              "      <td>8.561098</td>\n",
              "      <td>0.7</td>\n",
              "    </tr>\n",
              "    <tr>\n",
              "      <th>63</th>\n",
              "      <td>1543421869</td>\n",
              "      <td>3.908333</td>\n",
              "      <td>2.337781</td>\n",
              "      <td>1.115968</td>\n",
              "      <td>5.301350</td>\n",
              "      <td>6.775457</td>\n",
              "      <td>3.840297</td>\n",
              "      <td>1.895909</td>\n",
              "      <td>0.650917</td>\n",
              "      <td>6.521565</td>\n",
              "      <td>5.791237</td>\n",
              "      <td>1.061830</td>\n",
              "      <td>1.470761</td>\n",
              "      <td>0.564288</td>\n",
              "      <td>6.934895</td>\n",
              "      <td>6.078907</td>\n",
              "      <td>4.564817</td>\n",
              "      <td>1.413933</td>\n",
              "      <td>1.284582</td>\n",
              "      <td>5.854986</td>\n",
              "      <td>7.234146</td>\n",
              "      <td>0.7</td>\n",
              "    </tr>\n",
              "    <tr>\n",
              "      <th>64</th>\n",
              "      <td>1543421869</td>\n",
              "      <td>5.367963</td>\n",
              "      <td>2.802032</td>\n",
              "      <td>0.891601</td>\n",
              "      <td>2.805383</td>\n",
              "      <td>3.514531</td>\n",
              "      <td>4.033522</td>\n",
              "      <td>1.098476</td>\n",
              "      <td>0.407722</td>\n",
              "      <td>3.760828</td>\n",
              "      <td>3.888979</td>\n",
              "      <td>3.733721</td>\n",
              "      <td>1.597448</td>\n",
              "      <td>0.594971</td>\n",
              "      <td>5.954776</td>\n",
              "      <td>4.700396</td>\n",
              "      <td>6.111010</td>\n",
              "      <td>2.745140</td>\n",
              "      <td>1.514938</td>\n",
              "      <td>6.048419</td>\n",
              "      <td>9.216565</td>\n",
              "      <td>0.7</td>\n",
              "    </tr>\n",
              "    <tr>\n",
              "      <th>65</th>\n",
              "      <td>1543421870</td>\n",
              "      <td>3.783655</td>\n",
              "      <td>1.705671</td>\n",
              "      <td>1.222994</td>\n",
              "      <td>7.489910</td>\n",
              "      <td>11.148581</td>\n",
              "      <td>7.838331</td>\n",
              "      <td>1.723844</td>\n",
              "      <td>0.675010</td>\n",
              "      <td>6.446535</td>\n",
              "      <td>9.536837</td>\n",
              "      <td>5.063681</td>\n",
              "      <td>1.065747</td>\n",
              "      <td>0.405542</td>\n",
              "      <td>3.621515</td>\n",
              "      <td>4.811797</td>\n",
              "      <td>7.536380</td>\n",
              "      <td>2.445016</td>\n",
              "      <td>1.435928</td>\n",
              "      <td>6.859429</td>\n",
              "      <td>10.486379</td>\n",
              "      <td>0.7</td>\n",
              "    </tr>\n",
              "    <tr>\n",
              "      <th>66</th>\n",
              "      <td>1543421870</td>\n",
              "      <td>15.509041</td>\n",
              "      <td>3.309623</td>\n",
              "      <td>1.551595</td>\n",
              "      <td>39.461748</td>\n",
              "      <td>14.568299</td>\n",
              "      <td>3.113331</td>\n",
              "      <td>2.182521</td>\n",
              "      <td>0.741866</td>\n",
              "      <td>8.597403</td>\n",
              "      <td>8.362311</td>\n",
              "      <td>1.869951</td>\n",
              "      <td>1.193575</td>\n",
              "      <td>0.471651</td>\n",
              "      <td>6.905686</td>\n",
              "      <td>6.807568</td>\n",
              "      <td>11.217404</td>\n",
              "      <td>4.943224</td>\n",
              "      <td>1.984487</td>\n",
              "      <td>29.191812</td>\n",
              "      <td>13.744649</td>\n",
              "      <td>0.7</td>\n",
              "    </tr>\n",
              "  </tbody>\n",
              "</table>\n",
              "<p>67 rows × 22 columns</p>\n",
              "</div>"
            ],
            "text/plain": [
              "     timestamp     alpha0     beta0  ...     delta3     theta3  concentration\n",
              "0   1543421837   2.457797  1.670815  ...   2.870171   3.531350            0.7\n",
              "1   1543421838   7.278750  3.281481  ...  15.070847  11.062639            0.7\n",
              "2   1543421838   2.464989  1.866851  ...   6.241178  11.484470            0.7\n",
              "3   1543421839   1.870220  1.823971  ...   5.713234   6.814762            0.7\n",
              "4   1543421839   3.427257  1.716824  ...   4.041263   7.076259            0.7\n",
              "..         ...        ...       ...  ...        ...        ...            ...\n",
              "62  1543421868   2.501592  1.899136  ...  10.526776   8.561098            0.7\n",
              "63  1543421869   3.908333  2.337781  ...   5.854986   7.234146            0.7\n",
              "64  1543421869   5.367963  2.802032  ...   6.048419   9.216565            0.7\n",
              "65  1543421870   3.783655  1.705671  ...   6.859429  10.486379            0.7\n",
              "66  1543421870  15.509041  3.309623  ...  29.191812  13.744649            0.7\n",
              "\n",
              "[67 rows x 22 columns]"
            ]
          },
          "metadata": {
            "tags": []
          },
          "execution_count": 55
        }
      ]
    },
    {
      "cell_type": "markdown",
      "metadata": {
        "id": "ubskNV-VEy2u"
      },
      "source": [
        "## Reading and concatenating all the datasets"
      ]
    },
    {
      "cell_type": "code",
      "metadata": {
        "colab": {
          "base_uri": "https://localhost:8080/",
          "height": 437
        },
        "id": "15vYWSRzCz-N",
        "outputId": "31c0aca1-5478-48c9-90b1-56fc3b951950"
      },
      "source": [
        "glued_data = pd.DataFrame()\n",
        "for dirname, _, filenames in os.walk('/content/data'):\n",
        "    for filename in filenames:\n",
        "        #print(os.path.join(dirname, filename))\n",
        "        df = pd.read_csv(os.path.join(dirname, filename))\n",
        "        glued_data = pd.concat([glued_data,df],axis=0)\n",
        "glued_data"
      ],
      "execution_count": null,
      "outputs": [
        {
          "output_type": "execute_result",
          "data": {
            "text/html": [
              "<div>\n",
              "<style scoped>\n",
              "    .dataframe tbody tr th:only-of-type {\n",
              "        vertical-align: middle;\n",
              "    }\n",
              "\n",
              "    .dataframe tbody tr th {\n",
              "        vertical-align: top;\n",
              "    }\n",
              "\n",
              "    .dataframe thead th {\n",
              "        text-align: right;\n",
              "    }\n",
              "</style>\n",
              "<table border=\"1\" class=\"dataframe\">\n",
              "  <thead>\n",
              "    <tr style=\"text-align: right;\">\n",
              "      <th></th>\n",
              "      <th>timestamp</th>\n",
              "      <th>alpha0</th>\n",
              "      <th>beta0</th>\n",
              "      <th>gamma0</th>\n",
              "      <th>delta0</th>\n",
              "      <th>theta0</th>\n",
              "      <th>alpha1</th>\n",
              "      <th>beta1</th>\n",
              "      <th>gamma1</th>\n",
              "      <th>delta1</th>\n",
              "      <th>theta1</th>\n",
              "      <th>alpha2</th>\n",
              "      <th>beta2</th>\n",
              "      <th>gamma2</th>\n",
              "      <th>delta2</th>\n",
              "      <th>theta2</th>\n",
              "      <th>alpha3</th>\n",
              "      <th>beta3</th>\n",
              "      <th>gamma3</th>\n",
              "      <th>delta3</th>\n",
              "      <th>theta3</th>\n",
              "      <th>concentration</th>\n",
              "    </tr>\n",
              "  </thead>\n",
              "  <tbody>\n",
              "    <tr>\n",
              "      <th>0</th>\n",
              "      <td>1542127244</td>\n",
              "      <td>9.519776</td>\n",
              "      <td>2.040723</td>\n",
              "      <td>3.203356</td>\n",
              "      <td>15.368983</td>\n",
              "      <td>9.934692</td>\n",
              "      <td>1.593588</td>\n",
              "      <td>0.783191</td>\n",
              "      <td>0.379206</td>\n",
              "      <td>2.731298</td>\n",
              "      <td>3.510963</td>\n",
              "      <td>1.281448</td>\n",
              "      <td>1.046729</td>\n",
              "      <td>0.484853</td>\n",
              "      <td>3.010009</td>\n",
              "      <td>2.047416</td>\n",
              "      <td>6.074026</td>\n",
              "      <td>4.886942</td>\n",
              "      <td>5.790191</td>\n",
              "      <td>13.246192</td>\n",
              "      <td>11.807098</td>\n",
              "      <td>1.0</td>\n",
              "    </tr>\n",
              "    <tr>\n",
              "      <th>1</th>\n",
              "      <td>1542127245</td>\n",
              "      <td>2.691036</td>\n",
              "      <td>1.412461</td>\n",
              "      <td>1.761308</td>\n",
              "      <td>5.009871</td>\n",
              "      <td>6.084342</td>\n",
              "      <td>1.946037</td>\n",
              "      <td>1.119585</td>\n",
              "      <td>0.427170</td>\n",
              "      <td>2.730288</td>\n",
              "      <td>1.910549</td>\n",
              "      <td>1.508920</td>\n",
              "      <td>0.960493</td>\n",
              "      <td>0.478979</td>\n",
              "      <td>1.619538</td>\n",
              "      <td>1.572088</td>\n",
              "      <td>5.319075</td>\n",
              "      <td>3.008779</td>\n",
              "      <td>5.810209</td>\n",
              "      <td>6.713846</td>\n",
              "      <td>8.548983</td>\n",
              "      <td>1.0</td>\n",
              "    </tr>\n",
              "    <tr>\n",
              "      <th>2</th>\n",
              "      <td>1542127245</td>\n",
              "      <td>1.665384</td>\n",
              "      <td>1.645065</td>\n",
              "      <td>1.905416</td>\n",
              "      <td>15.686242</td>\n",
              "      <td>11.228881</td>\n",
              "      <td>0.736539</td>\n",
              "      <td>1.232634</td>\n",
              "      <td>0.700285</td>\n",
              "      <td>5.646490</td>\n",
              "      <td>5.903994</td>\n",
              "      <td>2.730805</td>\n",
              "      <td>1.540105</td>\n",
              "      <td>0.618704</td>\n",
              "      <td>6.687969</td>\n",
              "      <td>4.937399</td>\n",
              "      <td>5.307026</td>\n",
              "      <td>2.068972</td>\n",
              "      <td>5.519427</td>\n",
              "      <td>12.051471</td>\n",
              "      <td>9.974012</td>\n",
              "      <td>1.0</td>\n",
              "    </tr>\n",
              "    <tr>\n",
              "      <th>3</th>\n",
              "      <td>1542127246</td>\n",
              "      <td>6.704286</td>\n",
              "      <td>3.131510</td>\n",
              "      <td>3.077114</td>\n",
              "      <td>14.965178</td>\n",
              "      <td>16.681842</td>\n",
              "      <td>3.979727</td>\n",
              "      <td>1.331120</td>\n",
              "      <td>0.560819</td>\n",
              "      <td>13.965685</td>\n",
              "      <td>7.873419</td>\n",
              "      <td>6.359207</td>\n",
              "      <td>1.925431</td>\n",
              "      <td>0.882297</td>\n",
              "      <td>8.767475</td>\n",
              "      <td>3.716841</td>\n",
              "      <td>7.364262</td>\n",
              "      <td>3.879460</td>\n",
              "      <td>5.477259</td>\n",
              "      <td>10.939847</td>\n",
              "      <td>11.358926</td>\n",
              "      <td>1.0</td>\n",
              "    </tr>\n",
              "    <tr>\n",
              "      <th>4</th>\n",
              "      <td>1542127246</td>\n",
              "      <td>2.957472</td>\n",
              "      <td>1.357548</td>\n",
              "      <td>1.921097</td>\n",
              "      <td>4.443152</td>\n",
              "      <td>3.711718</td>\n",
              "      <td>1.840165</td>\n",
              "      <td>1.252548</td>\n",
              "      <td>0.496840</td>\n",
              "      <td>4.499410</td>\n",
              "      <td>4.830836</td>\n",
              "      <td>5.840734</td>\n",
              "      <td>2.359668</td>\n",
              "      <td>1.135686</td>\n",
              "      <td>5.050526</td>\n",
              "      <td>8.257578</td>\n",
              "      <td>5.184676</td>\n",
              "      <td>2.261491</td>\n",
              "      <td>5.477202</td>\n",
              "      <td>2.925507</td>\n",
              "      <td>6.215756</td>\n",
              "      <td>1.0</td>\n",
              "    </tr>\n",
              "    <tr>\n",
              "      <th>...</th>\n",
              "      <td>...</td>\n",
              "      <td>...</td>\n",
              "      <td>...</td>\n",
              "      <td>...</td>\n",
              "      <td>...</td>\n",
              "      <td>...</td>\n",
              "      <td>...</td>\n",
              "      <td>...</td>\n",
              "      <td>...</td>\n",
              "      <td>...</td>\n",
              "      <td>...</td>\n",
              "      <td>...</td>\n",
              "      <td>...</td>\n",
              "      <td>...</td>\n",
              "      <td>...</td>\n",
              "      <td>...</td>\n",
              "      <td>...</td>\n",
              "      <td>...</td>\n",
              "      <td>...</td>\n",
              "      <td>...</td>\n",
              "      <td>...</td>\n",
              "      <td>...</td>\n",
              "    </tr>\n",
              "    <tr>\n",
              "      <th>55</th>\n",
              "      <td>1542210766</td>\n",
              "      <td>5.422159</td>\n",
              "      <td>2.774181</td>\n",
              "      <td>5.326853</td>\n",
              "      <td>8.044552</td>\n",
              "      <td>8.605401</td>\n",
              "      <td>1.677383</td>\n",
              "      <td>1.483780</td>\n",
              "      <td>0.744998</td>\n",
              "      <td>7.603328</td>\n",
              "      <td>5.878838</td>\n",
              "      <td>1.354238</td>\n",
              "      <td>1.541994</td>\n",
              "      <td>0.663284</td>\n",
              "      <td>4.167730</td>\n",
              "      <td>2.039141</td>\n",
              "      <td>5.272535</td>\n",
              "      <td>4.975363</td>\n",
              "      <td>11.774189</td>\n",
              "      <td>10.611003</td>\n",
              "      <td>8.197350</td>\n",
              "      <td>0.8</td>\n",
              "    </tr>\n",
              "    <tr>\n",
              "      <th>56</th>\n",
              "      <td>1542210767</td>\n",
              "      <td>3.601459</td>\n",
              "      <td>2.496973</td>\n",
              "      <td>5.092552</td>\n",
              "      <td>7.220917</td>\n",
              "      <td>5.052296</td>\n",
              "      <td>6.014452</td>\n",
              "      <td>2.664929</td>\n",
              "      <td>1.102797</td>\n",
              "      <td>1.985335</td>\n",
              "      <td>4.250933</td>\n",
              "      <td>2.789452</td>\n",
              "      <td>1.709372</td>\n",
              "      <td>0.631028</td>\n",
              "      <td>5.895258</td>\n",
              "      <td>5.187459</td>\n",
              "      <td>6.814196</td>\n",
              "      <td>4.030934</td>\n",
              "      <td>10.201582</td>\n",
              "      <td>10.166777</td>\n",
              "      <td>9.296257</td>\n",
              "      <td>0.8</td>\n",
              "    </tr>\n",
              "    <tr>\n",
              "      <th>57</th>\n",
              "      <td>1542210767</td>\n",
              "      <td>4.770454</td>\n",
              "      <td>2.526336</td>\n",
              "      <td>5.060671</td>\n",
              "      <td>4.641261</td>\n",
              "      <td>3.007379</td>\n",
              "      <td>4.636757</td>\n",
              "      <td>1.903334</td>\n",
              "      <td>0.798974</td>\n",
              "      <td>7.529552</td>\n",
              "      <td>5.109939</td>\n",
              "      <td>2.335634</td>\n",
              "      <td>1.115512</td>\n",
              "      <td>0.609170</td>\n",
              "      <td>5.166543</td>\n",
              "      <td>3.446327</td>\n",
              "      <td>6.546083</td>\n",
              "      <td>4.436665</td>\n",
              "      <td>12.204018</td>\n",
              "      <td>5.811351</td>\n",
              "      <td>5.918770</td>\n",
              "      <td>0.8</td>\n",
              "    </tr>\n",
              "    <tr>\n",
              "      <th>58</th>\n",
              "      <td>1542210768</td>\n",
              "      <td>3.927918</td>\n",
              "      <td>2.538750</td>\n",
              "      <td>4.967421</td>\n",
              "      <td>6.829293</td>\n",
              "      <td>5.416744</td>\n",
              "      <td>1.781471</td>\n",
              "      <td>1.305217</td>\n",
              "      <td>0.895309</td>\n",
              "      <td>5.468817</td>\n",
              "      <td>2.559249</td>\n",
              "      <td>4.450877</td>\n",
              "      <td>1.992115</td>\n",
              "      <td>0.824031</td>\n",
              "      <td>8.642052</td>\n",
              "      <td>3.695624</td>\n",
              "      <td>4.993466</td>\n",
              "      <td>3.658976</td>\n",
              "      <td>11.806581</td>\n",
              "      <td>13.152894</td>\n",
              "      <td>11.768435</td>\n",
              "      <td>0.8</td>\n",
              "    </tr>\n",
              "    <tr>\n",
              "      <th>59</th>\n",
              "      <td>1542210768</td>\n",
              "      <td>6.994942</td>\n",
              "      <td>2.684023</td>\n",
              "      <td>5.302541</td>\n",
              "      <td>20.388008</td>\n",
              "      <td>17.683701</td>\n",
              "      <td>3.964846</td>\n",
              "      <td>1.406817</td>\n",
              "      <td>1.143113</td>\n",
              "      <td>5.428135</td>\n",
              "      <td>6.215213</td>\n",
              "      <td>3.024803</td>\n",
              "      <td>1.296311</td>\n",
              "      <td>0.654769</td>\n",
              "      <td>8.907451</td>\n",
              "      <td>2.215277</td>\n",
              "      <td>8.155341</td>\n",
              "      <td>3.856528</td>\n",
              "      <td>11.713244</td>\n",
              "      <td>8.983133</td>\n",
              "      <td>11.588229</td>\n",
              "      <td>0.8</td>\n",
              "    </tr>\n",
              "  </tbody>\n",
              "</table>\n",
              "<p>7243 rows × 22 columns</p>\n",
              "</div>"
            ],
            "text/plain": [
              "     timestamp    alpha0     beta0  ...     delta3     theta3  concentration\n",
              "0   1542127244  9.519776  2.040723  ...  13.246192  11.807098            1.0\n",
              "1   1542127245  2.691036  1.412461  ...   6.713846   8.548983            1.0\n",
              "2   1542127245  1.665384  1.645065  ...  12.051471   9.974012            1.0\n",
              "3   1542127246  6.704286  3.131510  ...  10.939847  11.358926            1.0\n",
              "4   1542127246  2.957472  1.357548  ...   2.925507   6.215756            1.0\n",
              "..         ...       ...       ...  ...        ...        ...            ...\n",
              "55  1542210766  5.422159  2.774181  ...  10.611003   8.197350            0.8\n",
              "56  1542210767  3.601459  2.496973  ...  10.166777   9.296257            0.8\n",
              "57  1542210767  4.770454  2.526336  ...   5.811351   5.918770            0.8\n",
              "58  1542210768  3.927918  2.538750  ...  13.152894  11.768435            0.8\n",
              "59  1542210768  6.994942  2.684023  ...   8.983133  11.588229            0.8\n",
              "\n",
              "[7243 rows x 22 columns]"
            ]
          },
          "metadata": {
            "tags": []
          },
          "execution_count": 34
        }
      ]
    },
    {
      "cell_type": "markdown",
      "metadata": {
        "id": "9B569bh0FSh4"
      },
      "source": [
        "### Extracting the column names"
      ]
    },
    {
      "cell_type": "code",
      "metadata": {
        "colab": {
          "base_uri": "https://localhost:8080/"
        },
        "id": "cdbsCJpZFNYL",
        "outputId": "5949a04c-941a-407b-807b-decaed721c92"
      },
      "source": [
        "\n",
        "cols = glued_data.columns\n",
        "cols"
      ],
      "execution_count": null,
      "outputs": [
        {
          "output_type": "execute_result",
          "data": {
            "text/plain": [
              "Index(['timestamp', 'alpha0', 'beta0', 'gamma0', 'delta0', 'theta0', 'alpha1',\n",
              "       'beta1', 'gamma1', 'delta1', 'theta1', 'alpha2', 'beta2', 'gamma2',\n",
              "       'delta2', 'theta2', 'alpha3', 'beta3', 'gamma3', 'delta3', 'theta3',\n",
              "       'concentration'],\n",
              "      dtype='object')"
            ]
          },
          "metadata": {
            "tags": []
          },
          "execution_count": 37
        }
      ]
    },
    {
      "cell_type": "markdown",
      "metadata": {
        "id": "THGL60XSFmQw"
      },
      "source": [
        "### Extracting the indexes"
      ]
    },
    {
      "cell_type": "code",
      "metadata": {
        "colab": {
          "base_uri": "https://localhost:8080/"
        },
        "id": "Zytrid99FR8h",
        "outputId": "9970f1a6-b669-4c31-e9f0-da54028b577a"
      },
      "source": [
        "inds = glued_data.index\n",
        "inds"
      ],
      "execution_count": null,
      "outputs": [
        {
          "output_type": "execute_result",
          "data": {
            "text/plain": [
              "Int64Index([ 0,  1,  2,  3,  4,  5,  6,  7,  8,  9,\n",
              "            ...\n",
              "            50, 51, 52, 53, 54, 55, 56, 57, 58, 59],\n",
              "           dtype='int64', length=7243)"
            ]
          },
          "metadata": {
            "tags": []
          },
          "execution_count": 39
        }
      ]
    },
    {
      "cell_type": "markdown",
      "metadata": {
        "id": "dSvKC6VjFsbg"
      },
      "source": [
        "### Extracting the shape (Size) of the glued dataset"
      ]
    },
    {
      "cell_type": "code",
      "metadata": {
        "colab": {
          "base_uri": "https://localhost:8080/"
        },
        "id": "cC8Zmu1oFqml",
        "outputId": "8eaff23c-5e95-442b-fb27-bd5d5384ac39"
      },
      "source": [
        "shape = glued_data.shape\n",
        "shape"
      ],
      "execution_count": null,
      "outputs": [
        {
          "output_type": "execute_result",
          "data": {
            "text/plain": [
              "(7243, 22)"
            ]
          },
          "metadata": {
            "tags": []
          },
          "execution_count": 40
        }
      ]
    },
    {
      "cell_type": "markdown",
      "metadata": {
        "id": "_eGzupVSGNn4"
      },
      "source": [
        "#### Checking the dtypes of the glued dataset"
      ]
    },
    {
      "cell_type": "code",
      "metadata": {
        "colab": {
          "base_uri": "https://localhost:8080/"
        },
        "id": "nSnIccBJF0u4",
        "outputId": "dea59cfc-b6ef-4257-9f50-fe0c0a0f0846"
      },
      "source": [
        "glued_data.dtypes"
      ],
      "execution_count": null,
      "outputs": [
        {
          "output_type": "execute_result",
          "data": {
            "text/plain": [
              "timestamp          int64\n",
              "alpha0           float64\n",
              "beta0            float64\n",
              "gamma0           float64\n",
              "delta0           float64\n",
              "theta0           float64\n",
              "alpha1           float64\n",
              "beta1            float64\n",
              "gamma1           float64\n",
              "delta1           float64\n",
              "theta1           float64\n",
              "alpha2           float64\n",
              "beta2            float64\n",
              "gamma2           float64\n",
              "delta2           float64\n",
              "theta2           float64\n",
              "alpha3           float64\n",
              "beta3            float64\n",
              "gamma3           float64\n",
              "delta3           float64\n",
              "theta3           float64\n",
              "concentration    float64\n",
              "dtype: object"
            ]
          },
          "metadata": {
            "tags": []
          },
          "execution_count": 43
        }
      ]
    },
    {
      "cell_type": "markdown",
      "metadata": {
        "id": "3c9lYOlGGW3P"
      },
      "source": [
        "### Extracting a description of the glued dataset\n",
        "From here we can extract important statistical values like the mean, the standard deviation, the minimum and maximum of each colmun and the quartiles"
      ]
    },
    {
      "cell_type": "code",
      "metadata": {
        "colab": {
          "base_uri": "https://localhost:8080/",
          "height": 315
        },
        "id": "q7YGdGgqGTsr",
        "outputId": "b41430df-c749-4c84-f58b-dc5392cff8ab"
      },
      "source": [
        "descr = glued_data.describe()\n",
        "descr"
      ],
      "execution_count": null,
      "outputs": [
        {
          "output_type": "execute_result",
          "data": {
            "text/html": [
              "<div>\n",
              "<style scoped>\n",
              "    .dataframe tbody tr th:only-of-type {\n",
              "        vertical-align: middle;\n",
              "    }\n",
              "\n",
              "    .dataframe tbody tr th {\n",
              "        vertical-align: top;\n",
              "    }\n",
              "\n",
              "    .dataframe thead th {\n",
              "        text-align: right;\n",
              "    }\n",
              "</style>\n",
              "<table border=\"1\" class=\"dataframe\">\n",
              "  <thead>\n",
              "    <tr style=\"text-align: right;\">\n",
              "      <th></th>\n",
              "      <th>timestamp</th>\n",
              "      <th>alpha0</th>\n",
              "      <th>beta0</th>\n",
              "      <th>gamma0</th>\n",
              "      <th>delta0</th>\n",
              "      <th>theta0</th>\n",
              "      <th>alpha1</th>\n",
              "      <th>beta1</th>\n",
              "      <th>gamma1</th>\n",
              "      <th>delta1</th>\n",
              "      <th>theta1</th>\n",
              "      <th>alpha2</th>\n",
              "      <th>beta2</th>\n",
              "      <th>gamma2</th>\n",
              "      <th>delta2</th>\n",
              "      <th>theta2</th>\n",
              "      <th>alpha3</th>\n",
              "      <th>beta3</th>\n",
              "      <th>gamma3</th>\n",
              "      <th>delta3</th>\n",
              "      <th>theta3</th>\n",
              "      <th>concentration</th>\n",
              "    </tr>\n",
              "  </thead>\n",
              "  <tbody>\n",
              "    <tr>\n",
              "      <th>count</th>\n",
              "      <td>7.243000e+03</td>\n",
              "      <td>7243.000000</td>\n",
              "      <td>7243.000000</td>\n",
              "      <td>7243.000000</td>\n",
              "      <td>7243.000000</td>\n",
              "      <td>7243.000000</td>\n",
              "      <td>7243.000000</td>\n",
              "      <td>7243.000000</td>\n",
              "      <td>7243.000000</td>\n",
              "      <td>7243.000000</td>\n",
              "      <td>7243.000000</td>\n",
              "      <td>7243.000000</td>\n",
              "      <td>7243.000000</td>\n",
              "      <td>7243.000000</td>\n",
              "      <td>7243.000000</td>\n",
              "      <td>7243.000000</td>\n",
              "      <td>7243.000000</td>\n",
              "      <td>7243.000000</td>\n",
              "      <td>7243.000000</td>\n",
              "      <td>7243.000000</td>\n",
              "      <td>7243.000000</td>\n",
              "      <td>7243.000000</td>\n",
              "    </tr>\n",
              "    <tr>\n",
              "      <th>mean</th>\n",
              "      <td>1.543369e+09</td>\n",
              "      <td>5.326987</td>\n",
              "      <td>2.318826</td>\n",
              "      <td>2.071164</td>\n",
              "      <td>10.160318</td>\n",
              "      <td>8.453414</td>\n",
              "      <td>2.870674</td>\n",
              "      <td>1.323259</td>\n",
              "      <td>0.622554</td>\n",
              "      <td>5.578872</td>\n",
              "      <td>4.396807</td>\n",
              "      <td>4.395317</td>\n",
              "      <td>2.153537</td>\n",
              "      <td>1.983578</td>\n",
              "      <td>7.184128</td>\n",
              "      <td>6.202209</td>\n",
              "      <td>6.067597</td>\n",
              "      <td>2.920872</td>\n",
              "      <td>3.978217</td>\n",
              "      <td>10.594843</td>\n",
              "      <td>10.368980</td>\n",
              "      <td>0.577551</td>\n",
              "    </tr>\n",
              "    <tr>\n",
              "      <th>std</th>\n",
              "      <td>1.235540e+06</td>\n",
              "      <td>6.172047</td>\n",
              "      <td>2.432313</td>\n",
              "      <td>2.502572</td>\n",
              "      <td>17.418539</td>\n",
              "      <td>11.763472</td>\n",
              "      <td>2.334589</td>\n",
              "      <td>0.910225</td>\n",
              "      <td>0.613659</td>\n",
              "      <td>8.675587</td>\n",
              "      <td>4.661946</td>\n",
              "      <td>8.365258</td>\n",
              "      <td>4.146346</td>\n",
              "      <td>6.038871</td>\n",
              "      <td>15.273376</td>\n",
              "      <td>12.706690</td>\n",
              "      <td>5.696528</td>\n",
              "      <td>2.740139</td>\n",
              "      <td>4.440584</td>\n",
              "      <td>14.017076</td>\n",
              "      <td>13.128843</td>\n",
              "      <td>0.361303</td>\n",
              "    </tr>\n",
              "    <tr>\n",
              "      <th>min</th>\n",
              "      <td>1.542040e+09</td>\n",
              "      <td>0.000000</td>\n",
              "      <td>0.000000</td>\n",
              "      <td>0.000000</td>\n",
              "      <td>0.000000</td>\n",
              "      <td>0.000000</td>\n",
              "      <td>0.322051</td>\n",
              "      <td>0.390864</td>\n",
              "      <td>0.212113</td>\n",
              "      <td>0.230244</td>\n",
              "      <td>0.274441</td>\n",
              "      <td>0.000000</td>\n",
              "      <td>0.000000</td>\n",
              "      <td>0.000000</td>\n",
              "      <td>0.000000</td>\n",
              "      <td>0.000000</td>\n",
              "      <td>0.767963</td>\n",
              "      <td>0.749085</td>\n",
              "      <td>0.569935</td>\n",
              "      <td>0.250963</td>\n",
              "      <td>1.096881</td>\n",
              "      <td>0.000000</td>\n",
              "    </tr>\n",
              "    <tr>\n",
              "      <th>25%</th>\n",
              "      <td>1.542211e+09</td>\n",
              "      <td>3.396990</td>\n",
              "      <td>1.631523</td>\n",
              "      <td>1.043713</td>\n",
              "      <td>4.836360</td>\n",
              "      <td>4.540873</td>\n",
              "      <td>1.583826</td>\n",
              "      <td>0.966952</td>\n",
              "      <td>0.448160</td>\n",
              "      <td>2.609584</td>\n",
              "      <td>2.343707</td>\n",
              "      <td>1.936012</td>\n",
              "      <td>1.110796</td>\n",
              "      <td>0.549524</td>\n",
              "      <td>3.318231</td>\n",
              "      <td>2.802404</td>\n",
              "      <td>3.924382</td>\n",
              "      <td>1.914933</td>\n",
              "      <td>1.620116</td>\n",
              "      <td>5.915959</td>\n",
              "      <td>6.823435</td>\n",
              "      <td>0.200000</td>\n",
              "    </tr>\n",
              "    <tr>\n",
              "      <th>50%</th>\n",
              "      <td>1.543421e+09</td>\n",
              "      <td>4.450090</td>\n",
              "      <td>1.979299</td>\n",
              "      <td>1.385343</td>\n",
              "      <td>6.577530</td>\n",
              "      <td>6.269440</td>\n",
              "      <td>2.454143</td>\n",
              "      <td>1.193696</td>\n",
              "      <td>0.571074</td>\n",
              "      <td>4.444134</td>\n",
              "      <td>3.739869</td>\n",
              "      <td>3.382548</td>\n",
              "      <td>1.441650</td>\n",
              "      <td>0.689898</td>\n",
              "      <td>5.263911</td>\n",
              "      <td>4.653347</td>\n",
              "      <td>5.196474</td>\n",
              "      <td>2.349082</td>\n",
              "      <td>2.588679</td>\n",
              "      <td>8.139987</td>\n",
              "      <td>8.573045</td>\n",
              "      <td>0.700000</td>\n",
              "    </tr>\n",
              "    <tr>\n",
              "      <th>75%</th>\n",
              "      <td>1.545144e+09</td>\n",
              "      <td>5.870473</td>\n",
              "      <td>2.483033</td>\n",
              "      <td>2.228096</td>\n",
              "      <td>9.571474</td>\n",
              "      <td>8.789360</td>\n",
              "      <td>3.675849</td>\n",
              "      <td>1.501565</td>\n",
              "      <td>0.700436</td>\n",
              "      <td>6.534376</td>\n",
              "      <td>5.391691</td>\n",
              "      <td>4.639749</td>\n",
              "      <td>1.902910</td>\n",
              "      <td>0.902282</td>\n",
              "      <td>7.306378</td>\n",
              "      <td>6.542933</td>\n",
              "      <td>6.804323</td>\n",
              "      <td>3.117656</td>\n",
              "      <td>4.436539</td>\n",
              "      <td>10.868632</td>\n",
              "      <td>10.854357</td>\n",
              "      <td>1.000000</td>\n",
              "    </tr>\n",
              "    <tr>\n",
              "      <th>max</th>\n",
              "      <td>1.545145e+09</td>\n",
              "      <td>201.152887</td>\n",
              "      <td>78.278736</td>\n",
              "      <td>92.520683</td>\n",
              "      <td>750.014555</td>\n",
              "      <td>358.034356</td>\n",
              "      <td>68.965405</td>\n",
              "      <td>32.649964</td>\n",
              "      <td>40.099892</td>\n",
              "      <td>408.068980</td>\n",
              "      <td>158.494019</td>\n",
              "      <td>205.175771</td>\n",
              "      <td>92.953589</td>\n",
              "      <td>135.022141</td>\n",
              "      <td>563.887881</td>\n",
              "      <td>379.304241</td>\n",
              "      <td>212.891519</td>\n",
              "      <td>81.748777</td>\n",
              "      <td>81.254551</td>\n",
              "      <td>369.982479</td>\n",
              "      <td>471.968294</td>\n",
              "      <td>1.000000</td>\n",
              "    </tr>\n",
              "  </tbody>\n",
              "</table>\n",
              "</div>"
            ],
            "text/plain": [
              "          timestamp       alpha0  ...       theta3  concentration\n",
              "count  7.243000e+03  7243.000000  ...  7243.000000    7243.000000\n",
              "mean   1.543369e+09     5.326987  ...    10.368980       0.577551\n",
              "std    1.235540e+06     6.172047  ...    13.128843       0.361303\n",
              "min    1.542040e+09     0.000000  ...     1.096881       0.000000\n",
              "25%    1.542211e+09     3.396990  ...     6.823435       0.200000\n",
              "50%    1.543421e+09     4.450090  ...     8.573045       0.700000\n",
              "75%    1.545144e+09     5.870473  ...    10.854357       1.000000\n",
              "max    1.545145e+09   201.152887  ...   471.968294       1.000000\n",
              "\n",
              "[8 rows x 22 columns]"
            ]
          },
          "metadata": {
            "tags": []
          },
          "execution_count": 46
        }
      ]
    },
    {
      "cell_type": "markdown",
      "metadata": {
        "id": "g9NQ5CtCG1rT"
      },
      "source": [
        "### Checking if we have NaNs in our dataset"
      ]
    },
    {
      "cell_type": "code",
      "metadata": {
        "colab": {
          "base_uri": "https://localhost:8080/"
        },
        "id": "H692B9p_G0-4",
        "outputId": "e9bb6519-59e7-488d-9d4b-91dd5fcca570"
      },
      "source": [
        "glued_data.isnull().sum()\n",
        "#No NaNs in our dataset"
      ],
      "execution_count": null,
      "outputs": [
        {
          "output_type": "execute_result",
          "data": {
            "text/plain": [
              "timestamp        0\n",
              "alpha0           0\n",
              "beta0            0\n",
              "gamma0           0\n",
              "delta0           0\n",
              "theta0           0\n",
              "alpha1           0\n",
              "beta1            0\n",
              "gamma1           0\n",
              "delta1           0\n",
              "theta1           0\n",
              "alpha2           0\n",
              "beta2            0\n",
              "gamma2           0\n",
              "delta2           0\n",
              "theta2           0\n",
              "alpha3           0\n",
              "beta3            0\n",
              "gamma3           0\n",
              "delta3           0\n",
              "theta3           0\n",
              "concentration    0\n",
              "dtype: int64"
            ]
          },
          "metadata": {
            "tags": []
          },
          "execution_count": 47
        }
      ]
    },
    {
      "cell_type": "markdown",
      "metadata": {
        "id": "lKNRtKdbI0rv"
      },
      "source": [
        "### Checking if we have duplicates"
      ]
    },
    {
      "cell_type": "code",
      "metadata": {
        "colab": {
          "base_uri": "https://localhost:8080/"
        },
        "id": "JhQyV8RlI3UP",
        "outputId": "c07e7db7-5ee2-4fa4-8b99-51e715b0bd09"
      },
      "source": [
        "glued_data.drop_duplicates().shape\n",
        "#No duplicated observations"
      ],
      "execution_count": null,
      "outputs": [
        {
          "output_type": "execute_result",
          "data": {
            "text/plain": [
              "(7243, 22)"
            ]
          },
          "metadata": {
            "tags": []
          },
          "execution_count": 54
        }
      ]
    },
    {
      "cell_type": "markdown",
      "metadata": {
        "id": "tECph3hrILYA"
      },
      "source": [
        "### Separating the important columns into:\n",
        "* Timestamps pandas series\n",
        "* Waves pandas dataframe\n",
        "* Concentration pandas series"
      ]
    },
    {
      "cell_type": "code",
      "metadata": {
        "id": "92qzhJoBG9hr"
      },
      "source": [
        "timestampCol = glued_data.loc[:,\"timestamp\"]\n",
        "wavesCols = glued_data.iloc[:,1:-1]\n",
        "concentration = glued_data.loc[:,\"concentration\"]"
      ],
      "execution_count": null,
      "outputs": []
    },
    {
      "cell_type": "code",
      "metadata": {
        "colab": {
          "base_uri": "https://localhost:8080/"
        },
        "id": "ONv9FpbXIb4T",
        "outputId": "38abfbff-017a-4282-9c24-5d22fe69c96e"
      },
      "source": [
        "timestampCol.head()"
      ],
      "execution_count": null,
      "outputs": [
        {
          "output_type": "execute_result",
          "data": {
            "text/plain": [
              "0    1542127244\n",
              "1    1542127245\n",
              "2    1542127245\n",
              "3    1542127246\n",
              "4    1542127246\n",
              "Name: timestamp, dtype: int64"
            ]
          },
          "metadata": {
            "tags": []
          },
          "execution_count": 50
        }
      ]
    },
    {
      "cell_type": "code",
      "metadata": {
        "colab": {
          "base_uri": "https://localhost:8080/",
          "height": 223
        },
        "id": "ar_In_TFIfLx",
        "outputId": "77cb9e77-88ee-4da8-cb65-63c12b7a09db"
      },
      "source": [
        "wavesCols.head()"
      ],
      "execution_count": null,
      "outputs": [
        {
          "output_type": "execute_result",
          "data": {
            "text/html": [
              "<div>\n",
              "<style scoped>\n",
              "    .dataframe tbody tr th:only-of-type {\n",
              "        vertical-align: middle;\n",
              "    }\n",
              "\n",
              "    .dataframe tbody tr th {\n",
              "        vertical-align: top;\n",
              "    }\n",
              "\n",
              "    .dataframe thead th {\n",
              "        text-align: right;\n",
              "    }\n",
              "</style>\n",
              "<table border=\"1\" class=\"dataframe\">\n",
              "  <thead>\n",
              "    <tr style=\"text-align: right;\">\n",
              "      <th></th>\n",
              "      <th>alpha0</th>\n",
              "      <th>beta0</th>\n",
              "      <th>gamma0</th>\n",
              "      <th>delta0</th>\n",
              "      <th>theta0</th>\n",
              "      <th>alpha1</th>\n",
              "      <th>beta1</th>\n",
              "      <th>gamma1</th>\n",
              "      <th>delta1</th>\n",
              "      <th>theta1</th>\n",
              "      <th>alpha2</th>\n",
              "      <th>beta2</th>\n",
              "      <th>gamma2</th>\n",
              "      <th>delta2</th>\n",
              "      <th>theta2</th>\n",
              "      <th>alpha3</th>\n",
              "      <th>beta3</th>\n",
              "      <th>gamma3</th>\n",
              "      <th>delta3</th>\n",
              "      <th>theta3</th>\n",
              "    </tr>\n",
              "  </thead>\n",
              "  <tbody>\n",
              "    <tr>\n",
              "      <th>0</th>\n",
              "      <td>9.519776</td>\n",
              "      <td>2.040723</td>\n",
              "      <td>3.203356</td>\n",
              "      <td>15.368983</td>\n",
              "      <td>9.934692</td>\n",
              "      <td>1.593588</td>\n",
              "      <td>0.783191</td>\n",
              "      <td>0.379206</td>\n",
              "      <td>2.731298</td>\n",
              "      <td>3.510963</td>\n",
              "      <td>1.281448</td>\n",
              "      <td>1.046729</td>\n",
              "      <td>0.484853</td>\n",
              "      <td>3.010009</td>\n",
              "      <td>2.047416</td>\n",
              "      <td>6.074026</td>\n",
              "      <td>4.886942</td>\n",
              "      <td>5.790191</td>\n",
              "      <td>13.246192</td>\n",
              "      <td>11.807098</td>\n",
              "    </tr>\n",
              "    <tr>\n",
              "      <th>1</th>\n",
              "      <td>2.691036</td>\n",
              "      <td>1.412461</td>\n",
              "      <td>1.761308</td>\n",
              "      <td>5.009871</td>\n",
              "      <td>6.084342</td>\n",
              "      <td>1.946037</td>\n",
              "      <td>1.119585</td>\n",
              "      <td>0.427170</td>\n",
              "      <td>2.730288</td>\n",
              "      <td>1.910549</td>\n",
              "      <td>1.508920</td>\n",
              "      <td>0.960493</td>\n",
              "      <td>0.478979</td>\n",
              "      <td>1.619538</td>\n",
              "      <td>1.572088</td>\n",
              "      <td>5.319075</td>\n",
              "      <td>3.008779</td>\n",
              "      <td>5.810209</td>\n",
              "      <td>6.713846</td>\n",
              "      <td>8.548983</td>\n",
              "    </tr>\n",
              "    <tr>\n",
              "      <th>2</th>\n",
              "      <td>1.665384</td>\n",
              "      <td>1.645065</td>\n",
              "      <td>1.905416</td>\n",
              "      <td>15.686242</td>\n",
              "      <td>11.228881</td>\n",
              "      <td>0.736539</td>\n",
              "      <td>1.232634</td>\n",
              "      <td>0.700285</td>\n",
              "      <td>5.646490</td>\n",
              "      <td>5.903994</td>\n",
              "      <td>2.730805</td>\n",
              "      <td>1.540105</td>\n",
              "      <td>0.618704</td>\n",
              "      <td>6.687969</td>\n",
              "      <td>4.937399</td>\n",
              "      <td>5.307026</td>\n",
              "      <td>2.068972</td>\n",
              "      <td>5.519427</td>\n",
              "      <td>12.051471</td>\n",
              "      <td>9.974012</td>\n",
              "    </tr>\n",
              "    <tr>\n",
              "      <th>3</th>\n",
              "      <td>6.704286</td>\n",
              "      <td>3.131510</td>\n",
              "      <td>3.077114</td>\n",
              "      <td>14.965178</td>\n",
              "      <td>16.681842</td>\n",
              "      <td>3.979727</td>\n",
              "      <td>1.331120</td>\n",
              "      <td>0.560819</td>\n",
              "      <td>13.965685</td>\n",
              "      <td>7.873419</td>\n",
              "      <td>6.359207</td>\n",
              "      <td>1.925431</td>\n",
              "      <td>0.882297</td>\n",
              "      <td>8.767475</td>\n",
              "      <td>3.716841</td>\n",
              "      <td>7.364262</td>\n",
              "      <td>3.879460</td>\n",
              "      <td>5.477259</td>\n",
              "      <td>10.939847</td>\n",
              "      <td>11.358926</td>\n",
              "    </tr>\n",
              "    <tr>\n",
              "      <th>4</th>\n",
              "      <td>2.957472</td>\n",
              "      <td>1.357548</td>\n",
              "      <td>1.921097</td>\n",
              "      <td>4.443152</td>\n",
              "      <td>3.711718</td>\n",
              "      <td>1.840165</td>\n",
              "      <td>1.252548</td>\n",
              "      <td>0.496840</td>\n",
              "      <td>4.499410</td>\n",
              "      <td>4.830836</td>\n",
              "      <td>5.840734</td>\n",
              "      <td>2.359668</td>\n",
              "      <td>1.135686</td>\n",
              "      <td>5.050526</td>\n",
              "      <td>8.257578</td>\n",
              "      <td>5.184676</td>\n",
              "      <td>2.261491</td>\n",
              "      <td>5.477202</td>\n",
              "      <td>2.925507</td>\n",
              "      <td>6.215756</td>\n",
              "    </tr>\n",
              "  </tbody>\n",
              "</table>\n",
              "</div>"
            ],
            "text/plain": [
              "     alpha0     beta0    gamma0  ...    gamma3     delta3     theta3\n",
              "0  9.519776  2.040723  3.203356  ...  5.790191  13.246192  11.807098\n",
              "1  2.691036  1.412461  1.761308  ...  5.810209   6.713846   8.548983\n",
              "2  1.665384  1.645065  1.905416  ...  5.519427  12.051471   9.974012\n",
              "3  6.704286  3.131510  3.077114  ...  5.477259  10.939847  11.358926\n",
              "4  2.957472  1.357548  1.921097  ...  5.477202   2.925507   6.215756\n",
              "\n",
              "[5 rows x 20 columns]"
            ]
          },
          "metadata": {
            "tags": []
          },
          "execution_count": 51
        }
      ]
    },
    {
      "cell_type": "code",
      "metadata": {
        "colab": {
          "base_uri": "https://localhost:8080/"
        },
        "id": "5g2YXkXHIgod",
        "outputId": "af77b00c-22d9-4aa4-f018-e7e56af26679"
      },
      "source": [
        "concentration.head()"
      ],
      "execution_count": null,
      "outputs": [
        {
          "output_type": "execute_result",
          "data": {
            "text/plain": [
              "0    1.0\n",
              "1    1.0\n",
              "2    1.0\n",
              "3    1.0\n",
              "4    1.0\n",
              "Name: concentration, dtype: float64"
            ]
          },
          "metadata": {
            "tags": []
          },
          "execution_count": 52
        }
      ]
    },
    {
      "cell_type": "code",
      "metadata": {
        "colab": {
          "base_uri": "https://localhost:8080/",
          "height": 1000
        },
        "id": "OgnmrTnaIlBZ",
        "outputId": "93f32e4b-20ea-4fdb-8389-fb88e38e6f47"
      },
      "source": [
        "for i in range(1,len(cols)-1):\n",
        "  plt.title(cols[i]+\" wave frequency scatter plot\")\n",
        "  plt.scatter(timestampCol,wavesCols.loc[:,cols[i]])\n",
        "  plt.xlabel(\"Timestamps\")\n",
        "  plt.ylabel(cols[i])\n",
        "  plt.show()"
      ],
      "execution_count": null,
      "outputs": [
        {
          "output_type": "display_data",
          "data": {
            "image/png": "[encoded data removed]",
            "text/plain": [
              "<Figure size 432x288 with 1 Axes>"
            ]
          },
          "metadata": {
            "tags": [],
            "needs_background": "light"
          }
        },
        {
          "output_type": "display_data",
          "data": {
            "image/png": "[encoded data removed]",
            "text/plain": [
              "<Figure size 432x288 with 1 Axes>"
            ]
          },
          "metadata": {
            "tags": [],
            "needs_background": "light"
          }
        },
        {
          "output_type": "display_data",
          "data": {
            "image/png": "[encoded data removed]",
            "text/plain": [
              "<Figure size 432x288 with 1 Axes>"
            ]
          },
          "metadata": {
            "tags": [],
            "needs_background": "light"
          }
        },
        {
          "output_type": "display_data",
          "data": {
            "image/png": "[encoded data removed]",
            "text/plain": [
              "<Figure size 432x288 with 1 Axes>"
            ]
          },
          "metadata": {
            "tags": [],
            "needs_background": "light"
          }
        },
        {
          "output_type": "display_data",
          "data": {
            "image/png": "[encoded data removed]",
            "text/plain": [
              "<Figure size 432x288 with 1 Axes>"
            ]
          },
          "metadata": {
            "tags": [],
            "needs_background": "light"
          }
        },
        {
          "output_type": "display_data",
          "data": {
            "image/png": "[encoded data removed]",
            "text/plain": [
              "<Figure size 432x288 with 1 Axes>"
            ]
          },
          "metadata": {
            "tags": [],
            "needs_background": "light"
          }
        },
        {
          "output_type": "display_data",
          "data": {
            "image/png": "[encoded data removed]",
            "text/plain": [
              "<Figure size 432x288 with 1 Axes>"
            ]
          },
          "metadata": {
            "tags": [],
            "needs_background": "light"
          }
        },
        {
          "output_type": "display_data",
          "data": {
            "image/png": "[encoded data removed]",
            "text/plain": [
              "<Figure size 432x288 with 1 Axes>"
            ]
          },
          "metadata": {
            "tags": [],
            "needs_background": "light"
          }
        },
        {
          "output_type": "display_data",
          "data": {
            "image/png": "[encoded data removed]",
            "text/plain": [
              "<Figure size 432x288 with 1 Axes>"
            ]
          },
          "metadata": {
            "tags": [],
            "needs_background": "light"
          }
        },
        {
          "output_type": "display_data",
          "data": {
            "image/png": "[encoded data removed]",
            "text/plain": [
              "<Figure size 432x288 with 1 Axes>"
            ]
          },
          "metadata": {
            "tags": [],
            "needs_background": "light"
          }
        },
        {
          "output_type": "display_data",
          "data": {
            "image/png": "[encoded data removed]",
            "text/plain": [
              "<Figure size 432x288 with 1 Axes>"
            ]
          },
          "metadata": {
            "tags": [],
            "needs_background": "light"
          }
        },
        {
          "output_type": "display_data",
          "data": {
            "image/png": "[encoded data removed]",
            "text/plain": [
              "<Figure size 432x288 with 1 Axes>"
            ]
          },
          "metadata": {
            "tags": [],
            "needs_background": "light"
          }
        },
        {
          "output_type": "display_data",
          "data": {
            "image/png": "[encoded data removed]",
            "text/plain": [
              "<Figure size 432x288 with 1 Axes>"
            ]
          },
          "metadata": {
            "tags": [],
            "needs_background": "light"
          }
        },
        {
          "output_type": "display_data",
          "data": {
            "image/png": "[encoded data removed]",
            "text/plain": [
              "<Figure size 432x288 with 1 Axes>"
            ]
          },
          "metadata": {
            "tags": [],
            "needs_background": "light"
          }
        },
        {
          "output_type": "display_data",
          "data": {
            "image/png": "[encoded data removed]",
            "text/plain": [
              "<Figure size 432x288 with 1 Axes>"
            ]
          },
          "metadata": {
            "tags": [],
            "needs_background": "light"
          }
        },
        {
          "output_type": "display_data",
          "data": {
            "image/png": "[encoded data removed]",
            "text/plain": [
              "<Figure size 432x288 with 1 Axes>"
            ]
          },
          "metadata": {
            "tags": [],
            "needs_background": "light"
          }
        },
        {
          "output_type": "display_data",
          "data": {
            "image/png": "[encoded data removed]",
            "text/plain": [
              "<Figure size 432x288 with 1 Axes>"
            ]
          },
          "metadata": {
            "tags": [],
            "needs_background": "light"
          }
        },
        {
          "output_type": "display_data",
          "data": {
            "image/png": "[encoded data removed]",
            "text/plain": [
              "<Figure size 432x288 with 1 Axes>"
            ]
          },
          "metadata": {
            "tags": [],
            "needs_background": "light"
          }
        },
        {
          "output_type": "display_data",
          "data": {
            "image/png": "[encoded data removed]",
            "text/plain": [
              "<Figure size 432x288 with 1 Axes>"
            ]
          },
          "metadata": {
            "tags": [],
            "needs_background": "light"
          }
        },
        {
          "output_type": "display_data",
          "data": {
            "image/png": "[encoded data removed]",
            "text/plain": [
              "<Figure size 432x288 with 1 Axes>"
            ]
          },
          "metadata": {
            "tags": [],
            "needs_background": "light"
          }
        }
      ]
    },
    {
      "cell_type": "code",
      "metadata": {
        "colab": {
          "base_uri": "https://localhost:8080/",
          "height": 295
        },
        "id": "GbxHzj2lN3ND",
        "outputId": "a7ffa591-bafb-44c9-a643-536ffe492360"
      },
      "source": [
        "for i in range(1,len(cols)-1):\n",
        "  plt.title(cols[i]+\" wave frequency scatter plot\")\n",
        "  plt.scatter(wavesCols.loc[:,cols[i]],concentration)\n",
        "  plt.ylabel(\"Concentration\")\n",
        "  plt.xlabel(cols[i])\n",
        "  #plt.show()"
      ],
      "execution_count": null,
      "outputs": [
        {
          "output_type": "display_data",
          "data": {
            "image/png": "[encoded data removed]",
            "text/plain": [
              "<Figure size 432x288 with 1 Axes>"
            ]
          },
          "metadata": {
            "tags": [],
            "needs_background": "light"
          }
        }
      ]
    },
    {
      "cell_type": "code",
      "metadata": {
        "id": "bOe3o4pWRCGI"
      },
      "source": [
        "glued_data.to_csv(\"GluedData\")"
      ],
      "execution_count": null,
      "outputs": []
    }
  ]
}